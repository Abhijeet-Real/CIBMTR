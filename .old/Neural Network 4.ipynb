{
 "cells": [
  {
   "cell_type": "markdown",
   "metadata": {
    "id": "Ov_P-pFvmxDc",
    "jp-MarkdownHeadingCollapsed": true
   },
   "source": [
    "# Data Collection"
   ]
  },
  {
   "cell_type": "markdown",
   "metadata": {
    "id": "m3rQtqsf_0Nm"
   },
   "source": [
    "## Importing Data"
   ]
  },
  {
   "cell_type": "code",
   "execution_count": 4,
   "metadata": {},
   "outputs": [],
   "source": [
    "# %pip install pandas\n",
    "# %pip install scipy\n",
    "# %pip install numpy\n",
    "# %pip install matplotlib\n",
    "# %pip install scikit-learn\n",
    "# %pip install statsmodels\n",
    "# %pip install tensorflow\n",
    "# %pip install scikit-survival\n",
    "# %pip install xgboost\n",
    "# %pip install factor-analyzer"
   ]
  },
  {
   "cell_type": "code",
   "execution_count": 6,
   "metadata": {
    "id": "PW6dKOsUKFpr"
   },
   "outputs": [],
   "source": [
    "import pandas as pd\n",
    "AA02_data = pd.read_csv(r\"equity-post-HCT-survival-predictions\\train.csv\")"
   ]
  },
  {
   "cell_type": "markdown",
   "metadata": {
    "id": "9UfuOEJu_20x"
   },
   "source": [
    "## Checking structure of Data"
   ]
  },
  {
   "cell_type": "code",
   "execution_count": 9,
   "metadata": {
    "colab": {
     "base_uri": "https://localhost:8080/"
    },
    "id": "frwjwvoyLEjU",
    "outputId": "fe55ebba-10ae-4198-ac49-972bead63637"
   },
   "outputs": [],
   "source": [
    "# AA02_data.info()"
   ]
  },
  {
   "cell_type": "code",
   "execution_count": 11,
   "metadata": {
    "colab": {
     "base_uri": "https://localhost:8080/"
    },
    "id": "PFxQYHKZKmGJ",
    "outputId": "921a7bb1-9931-464a-a334-74e735191276"
   },
   "outputs": [],
   "source": [
    "# AA02_data.head(3)"
   ]
  },
  {
   "cell_type": "markdown",
   "metadata": {
    "id": "pomKw8hsm4Nd"
   },
   "source": [
    "# Data Preprocessing"
   ]
  },
  {
   "cell_type": "markdown",
   "metadata": {
    "id": "i3I5RVel8TUT"
   },
   "source": [
    "## Data Sampling"
   ]
  },
  {
   "cell_type": "code",
   "execution_count": 15,
   "metadata": {
    "colab": {
     "base_uri": "https://localhost:8080/",
     "height": 285
    },
    "id": "u3ead7MnL41i",
    "outputId": "1889c420-9f54-402d-ee74-208d705cc349"
   },
   "outputs": [],
   "source": [
    "# Sample 5001 of the data\n",
    "# AA02_sample_data_0 = AA02_data.sample(n=5001, random_state=55002)\n",
    "\n",
    "AA02_sample_data_0 = AA02_data.copy()\n",
    "\n",
    "# AA02_display the first few rows of the sample\n",
    "# AA02_sample_data_0.head(3)"
   ]
  },
  {
   "cell_type": "code",
   "execution_count": 17,
   "metadata": {
    "id": "d1uDXbKRBmni"
   },
   "outputs": [],
   "source": [
    "def AA02_check_unique_values(dataframe):\n",
    "    \"\"\"\n",
    "    Calculate the number of unique values, total values,\n",
    "    and percentage of unique values for each column in the DataFrame.\n",
    "\n",
    "    Args:\n",
    "        dataframe (pd.DataFrame): The input DataFrame.\n",
    "\n",
    "    Returns:\n",
    "        pd.DataFrame: A summary DataFrame with unique value statistics.\n",
    "    \"\"\"\n",
    "    # Calculate unique values, total values, and percentage of unique values\n",
    "    unique_counts = dataframe.nunique()\n",
    "    total_counts = dataframe.count()\n",
    "    percentages = (unique_counts / total_counts) * 100\n",
    "\n",
    "    # Combine the results into a DataFrame for better AA02_display\n",
    "    summary_AA02_df = pd.DataFrame({\n",
    "        'Unique Values': unique_counts,\n",
    "        'Total Values': total_counts,\n",
    "        'Percentage (%)': percentages\n",
    "    })\n",
    "\n",
    "    return summary_AA02_df"
   ]
  },
  {
   "cell_type": "markdown",
   "metadata": {
    "id": "mbzX_Hst9FgJ"
   },
   "source": [
    "## Categorizing Variables"
   ]
  },
  {
   "cell_type": "code",
   "execution_count": 20,
   "metadata": {
    "colab": {
     "base_uri": "https://localhost:8080/"
    },
    "id": "Lz47rFRxMeFg",
    "outputId": "b93e9714-9e21-4638-b58f-7483f67d06d8"
   },
   "outputs": [],
   "source": [
    "# AA02_sample_data_0.columns"
   ]
  },
  {
   "cell_type": "code",
   "execution_count": 22,
   "metadata": {
    "colab": {
     "base_uri": "https://localhost:8080/",
     "height": 551
    },
    "id": "iLENaFKhCCZY",
    "outputId": "c300e4f6-dd5e-4871-e1ff-41ad0ecbf488"
   },
   "outputs": [],
   "source": [
    "# Check whether a Variable is index or not\n",
    "# AA02_check_unique_values(AA02_sample_data_0)"
   ]
  },
  {
   "cell_type": "code",
   "execution_count": 24,
   "metadata": {},
   "outputs": [],
   "source": [
    "# Load the CSV file\n",
    "file_path = r'equity-post-HCT-survival-predictions\\data_dictionary.csv'  # Update with your actual file path\n",
    "data = pd.read_csv(file_path)\n",
    "\n",
    "# Extract all variables\n",
    "AA02_columns = data['variable'].tolist()\n",
    "\n",
    "# Display the results\n",
    "# print(\"All Columns:\", AA02_columns)"
   ]
  },
  {
   "cell_type": "code",
   "execution_count": 26,
   "metadata": {
    "colab": {
     "base_uri": "https://localhost:8080/",
     "height": 143
    },
    "id": "s0MATwLn-rrs",
    "outputId": "71f4a2f1-aea4-4be8-a66a-48f9d71758a0"
   },
   "outputs": [],
   "source": [
    "AA02_sample_data_1 = AA02_sample_data_0[AA02_columns]\n",
    "# AA02_sample_data_1.head(3)"
   ]
  },
  {
   "cell_type": "code",
   "execution_count": 28,
   "metadata": {
    "colab": {
     "base_uri": "https://localhost:8080/",
     "height": 363
    },
    "id": "IlYKcegPMXq-",
    "outputId": "69b61b95-ad2b-4b14-ce0d-ec64731ccb35"
   },
   "outputs": [],
   "source": [
    "# Verify whether all variables are non index variables\n",
    "# AA02_check_unique_values(AA02_sample_data_1)"
   ]
  },
  {
   "cell_type": "code",
   "execution_count": 30,
   "metadata": {
    "id": "FpivejDiEVvn"
   },
   "outputs": [],
   "source": [
    "data['type'] = data['type'].str.strip().str.lower()\n",
    "\n",
    "# Separate categorical and numerical columns\n",
    "AA02_categorical_columns = data[data['type'] == 'categorical']['variable'].tolist()\n",
    "AA02_non_categorical_columns = data[data['type'] == 'numerical']['variable'].tolist()\n",
    "# print(\"Categorical Columns:\", AA02_categorical_columns)\n",
    "# print(\"Numerical Columns:\", AA02_non_categorical_columns)"
   ]
  },
  {
   "cell_type": "code",
   "execution_count": 32,
   "metadata": {
    "id": "CIka3FHcG6lU"
   },
   "outputs": [],
   "source": [
    "## Divde Categorical variable into two parts ordinal & nominal\n",
    "AA02_categorical_ordinal_columns = []\n",
    "AA02_categorical_nominal_columns = AA02_categorical_columns"
   ]
  },
  {
   "cell_type": "markdown",
   "metadata": {
    "id": "Ti7Mdslz-4M5"
   },
   "source": [
    "## Imputation"
   ]
  },
  {
   "cell_type": "markdown",
   "metadata": {
    "id": "IRs62a3D-6bl"
   },
   "source": [
    "### Checking Missing Percentage"
   ]
  },
  {
   "cell_type": "code",
   "execution_count": 36,
   "metadata": {
    "colab": {
     "base_uri": "https://localhost:8080/",
     "height": 363
    },
    "id": "0PRa13NhMpIr",
    "outputId": "a448a031-46a0-46a2-d80e-988b35e3cccc"
   },
   "outputs": [],
   "source": [
    "import pandas as pd\n",
    "\n",
    "# Function to calculate missing data information\n",
    "def AA02_missing_data_info(AA02_sample_data):\n",
    "    # Calculate missing count and percentage\n",
    "    AA02_missing_count = AA02_sample_data.isnull().sum()\n",
    "    AA02_missing_percentage = (AA02_missing_count / len(AA02_sample_data)) * 100\n",
    "\n",
    "    # Create a DataFrame with missing data information\n",
    "    AA02_missing_info = pd.DataFrame({\n",
    "        'AA02_Variable': AA02_sample_data.columns,\n",
    "        'AA02_Missing_Count': AA02_missing_count.values,\n",
    "        'AA02_Missing_Percentage': AA02_missing_percentage.values\n",
    "    }).reset_index(drop=True)\n",
    "\n",
    "    # Format the percentage column\n",
    "    AA02_missing_info['AA02_Missing_Percentage'] = AA02_missing_info['AA02_Missing_Percentage'].round(2).astype(str) + '%'\n",
    "\n",
    "    return AA02_missing_info\n",
    "\n",
    "# Call the function\n",
    "# AA02_missing_data_info(AA02_sample_data_1)"
   ]
  },
  {
   "cell_type": "code",
   "execution_count": 38,
   "metadata": {},
   "outputs": [
    {
     "name": "stdout",
     "output_type": "stream",
     "text": [
      "Variables Omitted Due to Missing Values (> 50%):\n",
      "    Variable  Missing_Percentage              Omitted_From\n",
      "0    mrd_hct               57.63  AA02_categorical_columns\n",
      "1  tce_match               65.96  AA02_categorical_columns\n"
     ]
    }
   ],
   "source": [
    "import pandas as pd\n",
    "\n",
    "# Function to omit variables with more than a threshold of missing values and log omitted variables\n",
    "def AA02_clean_data_with_logging(\n",
    "    AA02_sample_data,\n",
    "    AA02_categorical_columns,\n",
    "    AA02_non_categorical_columns,\n",
    "    AA02_columns,\n",
    "    missing_threshold=50\n",
    "):\n",
    "    # Calculate missing percentage for each variable\n",
    "    AA02_missing_percentage = (AA02_sample_data.isnull().sum() / len(AA02_sample_data)) * 100\n",
    "\n",
    "    # Identify variables to omit (missing percentage > threshold)\n",
    "    variables_to_omit = AA02_missing_percentage[AA02_missing_percentage > missing_threshold]\n",
    "\n",
    "    # Create a DataFrame for omitted variables\n",
    "    omitted_info = []\n",
    "    for variable, percentage in variables_to_omit.items():\n",
    "        if variable in AA02_categorical_columns:\n",
    "            source = \"AA02_categorical_columns\"\n",
    "        elif variable in AA02_non_categorical_columns:\n",
    "            source = \"AA02_non_categorical_columns\"\n",
    "        elif variable in AA02_columns:\n",
    "            source = \"AA02_columns\"\n",
    "        else:\n",
    "            source = \"Unknown\"\n",
    "\n",
    "        omitted_info.append({\n",
    "            \"Variable\": variable,\n",
    "            \"Missing_Percentage\": round(percentage, 2),\n",
    "            \"Omitted_From\": source\n",
    "        })\n",
    "\n",
    "    # Convert omitted info to DataFrame\n",
    "    AA02_omitted_df = pd.DataFrame(omitted_info)\n",
    "\n",
    "    # Identify variables to keep\n",
    "    variables_to_keep = AA02_missing_percentage[AA02_missing_percentage <= missing_threshold].index.tolist()\n",
    "\n",
    "    # Filter the dataset\n",
    "    AA02_sample_data_cleaned = AA02_sample_data[variables_to_keep]\n",
    "\n",
    "    # Update the lists (only keep variables that are not omitted)\n",
    "    AA02_columns[:] = [col for col in AA02_columns if col in variables_to_keep]\n",
    "    AA02_categorical_columns[:] = [col for col in AA02_categorical_columns if col in variables_to_keep]\n",
    "    AA02_non_categorical_columns[:] = [col for col in AA02_non_categorical_columns if col in variables_to_keep]\n",
    "\n",
    "    # Print the DataFrame of omitted variables\n",
    "    print(\"Variables Omitted Due to Missing Values (> {}%):\".format(missing_threshold))\n",
    "    print(AA02_omitted_df)\n",
    "\n",
    "    return AA02_sample_data_cleaned\n",
    "\n",
    "# Example usage\n",
    "# Assuming AA02_sample_data_1, AA02_categorical_columns, AA02_non_categorical_columns, and AA02_columns are defined\n",
    "AA02_sample_data_cleaned = AA02_clean_data_with_logging(\n",
    "    AA02_sample_data_1,\n",
    "    AA02_categorical_columns,\n",
    "    AA02_non_categorical_columns,\n",
    "    AA02_columns,\n",
    "    missing_threshold=50\n",
    ")\n"
   ]
  },
  {
   "cell_type": "code",
   "execution_count": 40,
   "metadata": {},
   "outputs": [],
   "source": [
    "# print(AA02_columns)"
   ]
  },
  {
   "cell_type": "code",
   "execution_count": 42,
   "metadata": {},
   "outputs": [],
   "source": [
    "# Dropping variables from data frame"
   ]
  },
  {
   "cell_type": "code",
   "execution_count": 44,
   "metadata": {},
   "outputs": [],
   "source": [
    "# Select variables from AA02_sample_data_1 that are present in AA02_columns\n",
    "AA02_sample_data_dropped_variable = AA02_sample_data_1[AA02_columns]\n",
    "\n",
    "# Display the resulting dataset\n",
    "# AA02_sample_data_dropped_variable.head(3)"
   ]
  },
  {
   "cell_type": "markdown",
   "metadata": {
    "id": "HkKZhWQY-Eff"
   },
   "source": [
    "### Categorical Imputation"
   ]
  },
  {
   "cell_type": "code",
   "execution_count": 47,
   "metadata": {
    "id": "-RZE8cm3p-RJ"
   },
   "outputs": [],
   "source": [
    "from sklearn.impute import SimpleImputer # type: ignore\n",
    "\n",
    "AA02_sample_data_imputed = AA02_sample_data_dropped_variable.copy()\n",
    "\n",
    "# Initialize SimpleImputer with most_frequent strategy\n",
    "AA02_imputer = SimpleImputer(strategy='most_frequent')\n",
    "\n",
    "# Apply imputation\n",
    "AA02_sample_data_imputed[AA02_categorical_columns] = AA02_imputer.fit_transform(AA02_sample_data_imputed[AA02_categorical_columns])"
   ]
  },
  {
   "cell_type": "markdown",
   "metadata": {
    "id": "xJCx0uVJ-JHn"
   },
   "source": [
    "### Non Categorical Imputation"
   ]
  },
  {
   "cell_type": "code",
   "execution_count": 50,
   "metadata": {
    "colab": {
     "base_uri": "https://localhost:8080/"
    },
    "id": "kqtOvgJmoFbq",
    "outputId": "260e3282-addb-4a1a-fb9d-9a4a9803c6b2"
   },
   "outputs": [
    {
     "name": "stdout",
     "output_type": "stream",
     "text": [
      "Imputing 'hla_match_c_high' with median (significant difference between mean and median)\n",
      "Imputing 'hla_high_res_8' with median (significant difference between mean and median)\n",
      "Imputing 'hla_low_res_6' with median (significant difference between mean and median)\n",
      "Imputing 'hla_high_res_6' with median (significant difference between mean and median)\n",
      "Imputing 'hla_high_res_10' with median (significant difference between mean and median)\n",
      "Imputing 'hla_match_dqb1_high' with median (significant difference between mean and median)\n",
      "Imputing 'hla_nmdp_6' with median (significant difference between mean and median)\n",
      "Imputing 'hla_match_c_low' with median (significant difference between mean and median)\n",
      "Imputing 'hla_match_drb1_low' with median (significant difference between mean and median)\n",
      "Imputing 'hla_match_dqb1_low' with median (significant difference between mean and median)\n",
      "Imputing 'hla_match_a_high' with median (significant difference between mean and median)\n",
      "Imputing 'donor_age' with mean (no significant difference between mean and median)\n",
      "Imputing 'hla_match_b_low' with median (significant difference between mean and median)\n",
      "Imputing 'hla_match_a_low' with median (significant difference between mean and median)\n",
      "Imputing 'hla_match_b_high' with median (significant difference between mean and median)\n",
      "Imputing 'comorbidity_score' with median (significant difference between mean and median)\n",
      "Imputing 'karnofsky_score' with mean (no significant difference between mean and median)\n",
      "Imputing 'hla_low_res_8' with median (significant difference between mean and median)\n",
      "Imputing 'hla_match_drb1_high' with median (significant difference between mean and median)\n",
      "Imputing 'hla_low_res_10' with median (significant difference between mean and median)\n"
     ]
    }
   ],
   "source": [
    "import warnings\n",
    "warnings.filterwarnings('ignore')\n",
    "\n",
    "import numpy as np\n",
    "import pandas as pd\n",
    "\n",
    "from sklearn.impute import SimpleImputer # type: ignore\n",
    "import numpy as np\n",
    "\n",
    "def AA02_impute_columns_with_mean_or_median(AA02_df, columns):\n",
    "    for col in columns:\n",
    "        # Ensure column is numeric\n",
    "        AA02_df[col] = pd.to_numeric(AA02_df[col], errors='coerce')\n",
    "\n",
    "        # Replace invalid values with NaN\n",
    "        AA02_df[col].replace([np.inf, -np.inf], np.nan, inplace=True)\n",
    "\n",
    "        # Skip if column has no missing values\n",
    "        if AA02_df[col].isnull().sum() == 0:\n",
    "            continue\n",
    "\n",
    "        # Calculate mean and median\n",
    "        AA02_col_mean = AA02_df[col].mean()\n",
    "        AA02_col_median = AA02_df[col].median()\n",
    "\n",
    "        # Choose strategy based on significant difference\n",
    "        if abs(AA02_col_mean - AA02_col_median) / max(abs(AA02_col_mean), abs(AA02_col_median)) > 0.1:  # Significant difference\n",
    "            print(f\"Imputing '{col}' with median (significant difference between mean and median)\")\n",
    "            AA02_imputer = SimpleImputer(strategy='median')\n",
    "        else:\n",
    "            print(f\"Imputing '{col}' with mean (no significant difference between mean and median)\")\n",
    "            AA02_imputer = SimpleImputer(strategy='mean')\n",
    "\n",
    "        # Apply the AA02_imputer\n",
    "        AA02_df[[col]] = AA02_imputer.fit_transform(AA02_df[[col]])\n",
    "\n",
    "    return AA02_df\n",
    "\n",
    "AA02_sample_data_imputed = AA02_impute_columns_with_mean_or_median(AA02_sample_data_imputed, AA02_non_categorical_columns)"
   ]
  },
  {
   "cell_type": "markdown",
   "metadata": {
    "id": "CMHMflEy-_Qm"
   },
   "source": [
    "### Verify Missing Percetage = 0"
   ]
  },
  {
   "cell_type": "code",
   "execution_count": 53,
   "metadata": {
    "colab": {
     "base_uri": "https://localhost:8080/",
     "height": 363
    },
    "id": "g9D3leRZqt0y",
    "outputId": "59581284-9be4-4e1a-f67d-7e8579b833fb"
   },
   "outputs": [],
   "source": [
    "# AA02_missing_data_info(AA02_sample_data_imputed)"
   ]
  },
  {
   "cell_type": "markdown",
   "metadata": {
    "id": "ODojRQ9f_La3"
   },
   "source": [
    "## Numerical Encoding"
   ]
  },
  {
   "cell_type": "markdown",
   "metadata": {
    "id": "V0k7gUB0_NWr"
   },
   "source": [
    "### Ordinal/Nominal Encoding"
   ]
  },
  {
   "cell_type": "code",
   "execution_count": 57,
   "metadata": {
    "colab": {
     "base_uri": "https://localhost:8080/",
     "height": 224
    },
    "id": "7UV-1hFXKyWM",
    "outputId": "11f0d0b3-c732-49a5-a159-3c1287d14cd9"
   },
   "outputs": [
    {
     "name": "stdout",
     "output_type": "stream",
     "text": [
      "DataFrame with Encoded Categorical Variables:\n"
     ]
    }
   ],
   "source": [
    "from sklearn.preprocessing import OrdinalEncoder # type: ignore\n",
    "\n",
    "# Define order for ordinal columns\n",
    "AA02_ordinal_categories = [\n",
    "    # ['Import', 'Export'],  # Order for 'Import_Export'\n",
    "    # ['B', 'A']             # Order for 'Grades' (A is superior to B) A will be written as 1 and b will be written as 0\n",
    "]\n",
    "# Initialize OrdinalEncoder for ordinal columns with specified order\n",
    "ordinal_encoder_ordinal = OrdinalEncoder(categories=AA02_ordinal_categories)\n",
    "\n",
    "# Initialize OrdinalEncoder for nominal columns (order does not matter)\n",
    "ordinal_encoder_nominal = OrdinalEncoder()\n",
    "\n",
    "# Make a copy of the DataFrame\n",
    "AA02_sample_data_ordinally_encoded = AA02_sample_data_imputed.copy()\n",
    "\n",
    "# Encode ordinal columns\n",
    "AA02_sample_data_ordinally_encoded[AA02_categorical_ordinal_columns] = ordinal_encoder_ordinal.fit_transform(\n",
    "    AA02_sample_data_ordinally_encoded[AA02_categorical_ordinal_columns].astype(str)\n",
    ")\n",
    "\n",
    "# Encode nominal columns\n",
    "AA02_sample_data_ordinally_encoded[AA02_categorical_nominal_columns] = ordinal_encoder_nominal.fit_transform(\n",
    "    AA02_sample_data_ordinally_encoded[AA02_categorical_nominal_columns].astype(str)\n",
    ")\n",
    "\n",
    "# AA02_display the encoded DataFrame\n",
    "print(\"DataFrame with Encoded Categorical Variables:\")\n",
    "# AA02_sample_data_ordinally_encoded.head()"
   ]
  },
  {
   "cell_type": "markdown",
   "metadata": {
    "id": "LOFADEPn_X0Q"
   },
   "source": [
    "## Transformation"
   ]
  },
  {
   "cell_type": "code",
   "execution_count": 60,
   "metadata": {
    "colab": {
     "base_uri": "https://localhost:8080/",
     "height": 161
    },
    "id": "Cw2IPoP5QnxR",
    "outputId": "cdf334bc-2526-4b6d-d668-fcbb138ffed1"
   },
   "outputs": [],
   "source": [
    "import numpy as np\n",
    "from scipy.stats import boxcox\n",
    "from sklearn.preprocessing import PowerTransformer # type: ignore\n",
    "import pandas as pd\n",
    "\n",
    "# Function to handle transformations based on distribution characteristics\n",
    "def apply_transformations(AA02_sample_data, columns):\n",
    "    # Initialize a list to store transformation logs\n",
    "    AA02_transformation_logs = []\n",
    "\n",
    "    for column in columns:\n",
    "        # Compute AA02_skewness and AA02_kurtosis\n",
    "        AA02_skewness = AA02_sample_data[column].skew()\n",
    "        AA02_kurtosis = AA02_sample_data[column].kurt()\n",
    "        AA02_action = \"None\"  # Default AA02_action\n",
    "\n",
    "        # Handle Right Skew (Positive Skew)\n",
    "        if AA02_skewness > 1:\n",
    "            AA02_action = \"Log Transformation\"\n",
    "            AA02_sample_data[column] = np.log1p(AA02_sample_data[column])\n",
    "\n",
    "        # Handle Left Skew (Negative Skew)\n",
    "        elif AA02_skewness < -1:\n",
    "            AA02_action = \"Reflect and Log Transformation\"\n",
    "            AA02_sample_data[column] = np.log1p(AA02_sample_data[column].max() - AA02_sample_data[column])\n",
    "\n",
    "        # Handle High Kurtosis (Heavy Tails)\n",
    "        if AA02_kurtosis > 3:\n",
    "            try:\n",
    "                AA02_action = \"Box-Cox Transformation\"\n",
    "                AA02_sample_data[column], _ = boxcox(AA02_sample_data[column].clip(lower=1))\n",
    "            except ValueError:\n",
    "                AA02_action = \"Box-Cox Failed, Applied Yeo-Johnson\"\n",
    "                transformer = PowerTransformer(method='yeo-johnson')\n",
    "                AA02_sample_data[column] = transformer.fit_transform(AA02_sample_data[[column]])\n",
    "\n",
    "        # Handle Low Kurtosis (Light Tails)\n",
    "        elif AA02_kurtosis < 3 and AA02_action == \"None\":\n",
    "            AA02_action = \"Yeo-Johnson Transformation\"\n",
    "            transformer = PowerTransformer(method='yeo-johnson')\n",
    "            AA02_sample_data[column] = transformer.fit_transform(AA02_sample_data[[column]])\n",
    "\n",
    "        # Append the log entry\n",
    "        AA02_transformation_logs.append({\n",
    "            'Column Name': column,\n",
    "            'Skewness': AA02_skewness,\n",
    "            'Kurtosis': AA02_kurtosis,\n",
    "            'Action Taken': AA02_action\n",
    "        })\n",
    "\n",
    "    # Create a DataFrame for transformation logs\n",
    "    transformation_log_AA02_df = pd.DataFrame(AA02_transformation_logs)\n",
    "    return AA02_sample_data, transformation_log_AA02_df\n",
    "\n",
    "# Example usage with AA02_sample_data_encoded\n",
    "AA02_sample_data_encoded = AA02_sample_data_ordinally_encoded.copy()\n",
    "AA02_sample_data_encoded, AA02_transformation_logs = apply_transformations(AA02_sample_data_encoded, AA02_non_categorical_columns)\n",
    "\n",
    "# AA02_display the transformation log DataFrame\n",
    "# print(\"Transformation Log:\")\n",
    "# AA02_transformation_logs"
   ]
  },
  {
   "cell_type": "code",
   "execution_count": 62,
   "metadata": {
    "colab": {
     "base_uri": "https://localhost:8080/",
     "height": 206
    },
    "id": "Iw0Z1A-kWvcY",
    "outputId": "a5644a9a-1fe5-4cc4-ac23-674592f04312"
   },
   "outputs": [],
   "source": [
    "# Code for AA02_displaying transformed datset\n",
    "# AA02_sample_data_encoded.head(5)"
   ]
  },
  {
   "cell_type": "markdown",
   "metadata": {
    "id": "d-8ALf89nQZZ"
   },
   "source": [
    "# Machine Learning"
   ]
  },
  {
   "cell_type": "markdown",
   "metadata": {
    "id": "UaFy3CxZBzTp"
   },
   "source": [
    "## Dependent/Independent variables"
   ]
  },
  {
   "cell_type": "markdown",
   "metadata": {
    "id": "pQJctu_ICD-7"
   },
   "source": [
    "### Function to define Independent Variables"
   ]
  },
  {
   "cell_type": "code",
   "execution_count": 67,
   "metadata": {
    "id": "oR57j0RfYpbC"
   },
   "outputs": [],
   "source": [
    "def prepare_data(AA02_y_vars, AA02_cat_vars, AA02_non_cat_vars):\n",
    "    \"\"\"\n",
    "    Prepares the data by calculating the feature set (AA02_x) while excluding dependent variables.\n",
    "\n",
    "    Args:\n",
    "    - AA02_y_vars: A list of dependent variable names (can handle multiple dependent variables).\n",
    "    - AA02_cat_vars: A list of categorical variable names.\n",
    "    - AA02_non_cat_vars: A list of non-categorical variable names.\n",
    "\n",
    "    Returns:\n",
    "    - AA02_y_vars: A list of dependent variable names.\n",
    "    - AA02_x: A list of feature variable names, excluding dependent variables.\n",
    "    \"\"\"\n",
    "    # Combine categorical and non-categorical variable lists\n",
    "    AA02_all_vars = AA02_cat_vars + AA02_non_cat_vars\n",
    "\n",
    "    # Ensure `AA02_y_vars` is a list for consistency\n",
    "    if isinstance(AA02_y_vars, str):\n",
    "        AA02_y_vars = [AA02_y_vars]\n",
    "\n",
    "    # Calculate the feature set (x) as the difference between AA02_all_vars and y_vars\n",
    "    AA02_x = [AA02_var for AA02_var in AA02_all_vars if AA02_var not in AA02_y_vars]\n",
    "\n",
    "    return AA02_y_vars, AA02_x"
   ]
  },
  {
   "cell_type": "markdown",
   "metadata": {
    "id": "dHGA4QiaCI2p"
   },
   "source": [
    "### Defining Dependent Variable"
   ]
  },
  {
   "cell_type": "code",
   "execution_count": 70,
   "metadata": {
    "colab": {
     "base_uri": "https://localhost:8080/"
    },
    "id": "UIMrNabZyyLf",
    "outputId": "06033a03-09e2-4cd0-d88f-496abd77b6bd"
   },
   "outputs": [],
   "source": [
    "AA02_y = ['efs', 'efs_time']  # Target variable defined manually\n",
    "\n",
    "AA02_y_columns, AA02_x_columns = prepare_data(AA02_y, AA02_categorical_columns, AA02_non_categorical_columns)\n",
    "\n",
    "# print(\"Target (y):\", AA02_y_columns)\n",
    "# print(\"Feature Set (x):\", AA02_x_columns)"
   ]
  },
  {
   "cell_type": "markdown",
   "metadata": {
    "id": "Jp2JPI4LCNOB"
   },
   "source": [
    "## Train Test Split"
   ]
  },
  {
   "cell_type": "code",
   "execution_count": 106,
   "metadata": {},
   "outputs": [],
   "source": [
    "from sklearn.model_selection import train_test_split\n",
    "\n",
    "AA02_sample_data_5 = AA02_sample_data_encoded.copy()\n",
    "\n",
    "# Extract the target columns (multi-output targets)\n",
    "AA02_y_data = AA02_sample_data_5[AA02_y_columns]  # AA02_y_columns should be a list like ['efs', 'efs_time']\n",
    "\n",
    "# Extract the features (as DataFrame)\n",
    "AA02_x_data = AA02_sample_data_5[AA02_x_columns]  # AA02_x_columns is the list of feature column names\n",
    "\n",
    "# Perform the train-test split\n",
    "AA02_x_train, AA02_x_test, AA02_y_train, AA02_y_test = train_test_split(\n",
    "    AA02_x_data, AA02_y_data, test_size=0.1, random_state=55002, stratify=AA02_y_data['efs']  # Stratify by 'efs'\n",
    ")"
   ]
  },
  {
   "cell_type": "markdown",
   "metadata": {},
   "source": [
    "## Factor Analysis"
   ]
  },
  {
   "cell_type": "code",
   "execution_count": 134,
   "metadata": {},
   "outputs": [
    {
     "data": {
      "image/png": "[encoded data removed]",
      "text/plain": [
       "<Figure size 640x480 with 1 Axes>"
      ]
     },
     "metadata": {},
     "output_type": "display_data"
    }
   ],
   "source": [
    "import pandas as pd\n",
    "from factor_analyzer import FactorAnalyzer\n",
    "\n",
    "# Check the correlation matrix\n",
    "correlation_matrix = AA02_x_train.corr()\n",
    "# print(\"Correlation Matrix:\\n\", correlation_matrix)\n",
    "\n",
    "# Perform factor analysis\n",
    "fa = FactorAnalyzer(n_factors=5, rotation=\"varimax\")  # Adjust 'n_factors' as needed\n",
    "fa.fit(AA02_x_train)\n",
    "\n",
    "# Get eigenvalues to decide the number of factors to retain\n",
    "eigenvalues, _ = fa.get_eigenvalues()\n",
    "# print(\"Eigenvalues:\\n\", eigenvalues)\n",
    "\n",
    "# Plot eigenvalues to visualize\n",
    "import matplotlib.pyplot as plt\n",
    "\n",
    "plt.plot(range(1, len(eigenvalues) + 1), eigenvalues, marker='o')\n",
    "plt.title(\"Scree Plot\")\n",
    "plt.xlabel(\"Factor\")\n",
    "plt.ylabel(\"Eigenvalue\")\n",
    "plt.axhline(1, color='red', linestyle='--')  # Retain factors with eigenvalue > 1\n",
    "plt.show()\n",
    "\n",
    "# Factor loadings\n",
    "factor_loadings = pd.DataFrame(fa.loadings_, index=AA02_x_train.columns)\n",
    "# print(\"Factor Loadings:\\n\", factor_loadings)"
   ]
  },
  {
   "cell_type": "code",
   "execution_count": 135,
   "metadata": {},
   "outputs": [
    {
     "name": "stdout",
     "output_type": "stream",
     "text": [
      "Important Variables:\n",
      "                             0         1         2         3         4\n",
      "graft_type          -0.081649  0.805312  0.184081 -0.014311 -0.054653\n",
      "tce_imm_match       -0.040408 -0.034231  0.011137  0.839081  0.110447\n",
      "prod_type           -0.082360  0.810710  0.184831 -0.012069 -0.056601\n",
      "tce_div_match       -0.047531 -0.018025  0.000784  0.811831  0.097783\n",
      "hla_match_c_high     0.789416  0.067075  0.002731 -0.088844  0.069099\n",
      "hla_high_res_8       0.929622  0.030440 -0.025028 -0.021349 -0.134728\n",
      "hla_low_res_6        0.938663  0.004363 -0.046361  0.023986  0.066758\n",
      "hla_high_res_6       0.927354  0.021464 -0.040196  0.006453 -0.154612\n",
      "hla_high_res_10      0.909170  0.009403 -0.005492 -0.028634 -0.121641\n",
      "hla_nmdp_6           0.875050  0.012050 -0.066642  0.035115 -0.039388\n",
      "hla_match_c_low      0.789954  0.085997 -0.016252 -0.082788  0.158763\n",
      "hla_match_drb1_low   0.827972 -0.045132 -0.036798 -0.015469  0.162409\n",
      "hla_match_a_high     0.794201  0.025394 -0.067689  0.100807 -0.191614\n",
      "hla_match_b_low      0.846754  0.064224 -0.021428 -0.037518  0.133536\n",
      "hla_match_a_low      0.795289  0.022871 -0.071328  0.110235 -0.051504\n",
      "hla_match_b_high     0.827031  0.071600 -0.012381 -0.070458 -0.035002\n",
      "hla_low_res_8        0.950354  0.018514 -0.035856 -0.009066  0.086221\n",
      "hla_match_drb1_high  0.835698 -0.022625 -0.049550 -0.010945  0.061799\n",
      "hla_low_res_10       0.939118  0.010283 -0.021734 -0.023326  0.082624\n"
     ]
    }
   ],
   "source": [
    "# Select important variables (e.g., variables with loadings > 0.5)\n",
    "important_variables = factor_loadings[(factor_loadings.abs() > 0.75).any(axis=1)]\n",
    "print(\"Important Variables:\\n\", important_variables)"
   ]
  },
  {
   "cell_type": "code",
   "execution_count": 138,
   "metadata": {},
   "outputs": [],
   "source": [
    "# Create a list of important variables including 'efs'\n",
    "important_variables_list = list(important_variables.index)  # Extract variable names from important_variables\n",
    "\n",
    "# Ensure 'efs' is included in the list\n",
    "# if 'efs' not in important_variables_list:\n",
    "    # important_variables_list.append('efs')  # Add 'efs' explicitly to the list\n",
    "\n",
    "# Subset train and test datasets\n",
    "AA02_x_train = AA02_x_train[important_variables_list]\n",
    "AA02_x_test = AA02_x_test[important_variables_list]"
   ]
  },
  {
   "cell_type": "markdown",
   "metadata": {
    "id": "ms1QBRlXCxQh"
   },
   "source": [
    "## Train test split verification"
   ]
  },
  {
   "cell_type": "code",
   "execution_count": 141,
   "metadata": {},
   "outputs": [],
   "source": [
    "import pandas as pd\n",
    "\n",
    "# Compute unique value counts for AA02_x_train and AA02_x_test\n",
    "AA02_unique_values_AA02_x_train = AA02_x_train.nunique()\n",
    "AA02_unique_values_AA02_x_test = AA02_x_test.nunique()\n",
    "\n",
    "# Safely compute unique value counts for dependent variables in AA02_y_train and AA02_y_test\n",
    "AA02_unique_values_AA02_y_train = {}\n",
    "AA02_unique_values_AA02_y_test = {}\n",
    "\n",
    "for y in AA02_y_columns:\n",
    "    if y in AA02_y_train.columns:\n",
    "        AA02_unique_values_AA02_y_train[y] = AA02_y_train[y].nunique()\n",
    "    else:\n",
    "        print(f\"Warning: '{y}' not found in AA02_y_train\")\n",
    "    \n",
    "    if y in AA02_y_test.columns:\n",
    "        AA02_unique_values_AA02_y_test[y] = AA02_y_test[y].nunique()\n",
    "    else:\n",
    "        print(f\"Warning: '{y}' not found in AA02_y_test\")\n",
    "\n",
    "# Convert to pandas Series\n",
    "AA02_unique_values_AA02_y_train = pd.Series(AA02_unique_values_AA02_y_train)\n",
    "AA02_unique_values_AA02_y_test = pd.Series(AA02_unique_values_AA02_y_test)\n",
    "\n",
    "# Combine the results into a single DataFrame\n",
    "AA02_unique_values_AA02_df = pd.DataFrame({\n",
    "    'AA02_x_train': AA02_unique_values_AA02_x_train,\n",
    "    'AA02_x_test': AA02_unique_values_AA02_x_test,\n",
    "    'AA02_y_train': AA02_unique_values_AA02_y_train,\n",
    "    'AA02_y_test': AA02_unique_values_AA02_y_test\n",
    "})\n",
    "\n",
    "# Display the DataFrame\n",
    "# AA02_unique_values_AA02_df"
   ]
  },
  {
   "cell_type": "markdown",
   "metadata": {},
   "source": [
    "## Neural Network"
   ]
  },
  {
   "cell_type": "code",
   "execution_count": null,
   "metadata": {},
   "outputs": [],
   "source": [
    "import pandas as pd\n",
    "from itertools import combinations\n",
    "from sklearn.metrics import mean_squared_error, r2_score\n",
    "from sksurv.metrics import concordance_index_censored\n",
    "import tensorflow as tf\n",
    "from tensorflow.keras.models import Model\n",
    "from tensorflow.keras.layers import Input, Dense, Dropout\n",
    "import numpy as np\n",
    "from concurrent.futures import ThreadPoolExecutor\n",
    "import os\n",
    "\n",
    "def evaluate_variable_combinations(AA02_x_train, AA02_x_test, AA02_y_train, AA02_y_test, important_variables_list, min_var_fraction=1.00):\n",
    "    \"\"\"\n",
    "    Evaluate all combinations of variables for a neural network model and calculate performance metrics.\n",
    "\n",
    "    Parameters:\n",
    "        AA02_x_train (pd.DataFrame): Training feature set.\n",
    "        AA02_x_test (pd.DataFrame): Test feature set.\n",
    "        AA02_y_train (pd.DataFrame): Training target set.\n",
    "        AA02_y_test (pd.DataFrame): Test target set.\n",
    "        important_variables_list (list): List of important variables.\n",
    "        min_var_fraction (float): Minimum fraction of variables to consider in combinations.\n",
    "\n",
    "    Returns:\n",
    "        tuple: A tuple containing the best model, and a DataFrame with evaluation metrics and variable presence.\n",
    "    \"\"\"\n",
    "    # Initialize the results list\n",
    "    results_list = []\n",
    "    best_model = None\n",
    "    best_c_index = -float('inf')\n",
    "\n",
    "    # Determine the minimum number of variables to include\n",
    "    min_important_vars = max(int(min_var_fraction * len(important_variables_list)), 1)\n",
    "\n",
    "    # Define a helper function to evaluate a single combination\n",
    "    def evaluate_subset(subset):\n",
    "        nonlocal best_model, best_c_index\n",
    "\n",
    "        # Subset the train and test data\n",
    "        AA02_x_train_subset = AA02_x_train[list(subset)]\n",
    "        AA02_x_test_subset = AA02_x_test[list(subset)]\n",
    "\n",
    "        # Define the model\n",
    "        input_layer = Input(shape=(AA02_x_train_subset.shape[1],), name=\"input_layer\")\n",
    "        shared_layer = Dense(128, activation=\"relu\")(input_layer)\n",
    "        shared_layer = Dropout(0.3)(shared_layer)\n",
    "        shared_layer = Dense(64, activation=\"relu\")(shared_layer)\n",
    "        efs_time_output = Dense(1, activation=\"linear\", name=\"efs_time_output\")(shared_layer)\n",
    "\n",
    "        model = Model(inputs=input_layer, outputs=efs_time_output)\n",
    "        model.compile(optimizer=\"adam\", loss=\"mse\", metrics=[\"mse\"])\n",
    "\n",
    "        # Train the model\n",
    "        model.fit(\n",
    "            AA02_x_train_subset,\n",
    "            AA02_y_train[\"efs_time\"],\n",
    "            validation_data=(AA02_x_test_subset, AA02_y_test[\"efs_time\"]),\n",
    "            epochs=2,\n",
    "            batch_size=1,\n",
    "            verbose=1\n",
    "        )\n",
    "\n",
    "        # Predict and evaluate\n",
    "        efs_time_predictions = model.predict(AA02_x_test_subset).ravel()\n",
    "        event_indicator = AA02_y_test[\"efs\"].values.astype(bool)\n",
    "        event_time = AA02_y_test[\"efs_time\"].values\n",
    "\n",
    "        efs_time_cindex = concordance_index_censored(\n",
    "            event_indicator,  # Event indicator\n",
    "            event_time,       # Observed survival times\n",
    "            -efs_time_predictions  # Predicted risk scores\n",
    "        )\n",
    "        if isinstance(efs_time_cindex, tuple):\n",
    "            efs_time_cindex = efs_time_cindex[0]\n",
    "\n",
    "        efs_time_r2 = r2_score(AA02_y_test[\"efs_time\"], efs_time_predictions)\n",
    "\n",
    "        # Check if this model is the best so far\n",
    "        if efs_time_cindex > best_c_index:\n",
    "            best_c_index = efs_time_cindex\n",
    "            best_model = model\n",
    "\n",
    "        # Store results in a dictionary\n",
    "        result = {\n",
    "            \"C-index\": efs_time_cindex,\n",
    "            \"R²\": efs_time_r2\n",
    "        }\n",
    "\n",
    "        # Add variable presence\n",
    "        for var in important_variables_list:\n",
    "            result[var] = 1 if var in subset else 0\n",
    "\n",
    "        return result\n",
    "\n",
    "    # Generate all combinations of variables\n",
    "    all_combinations = []\n",
    "    for r in range(min_important_vars, len(important_variables_list) + 1):\n",
    "        all_combinations.extend(combinations(important_variables_list, r))\n",
    "\n",
    "    # Use multithreading to evaluate combinations\n",
    "    with ThreadPoolExecutor(max_workers = os.cpu_count()) as executor:\n",
    "        results_list = list(executor.map(evaluate_subset, all_combinations))\n",
    "\n",
    "    # Convert results list to DataFrame\n",
    "    results_df = pd.DataFrame(results_list)\n",
    "\n",
    "    return best_model, results_df\n",
    "\n",
    "# Example usage\n",
    "best_model, results_df = evaluate_variable_combinations(AA02_x_train, AA02_x_test, AA02_y_train, AA02_y_test, important_variables_list)\n"
   ]
  },
  {
   "cell_type": "code",
   "execution_count": null,
   "metadata": {},
   "outputs": [],
   "source": [
    "import pandas as pd\n",
    "from IPython.display import display\n",
    "\n",
    "def display_full_dataframe(df):\n",
    "    # Set display options for max columns and rows\n",
    "    pd.set_option('display.max_columns', None)\n",
    "    pd.set_option('display.max_rows', None)\n",
    "\n",
    "    # Display the DataFrame\n",
    "    display(df)\n",
    "\n",
    "    # Reset options to defaults after displaying\n",
    "    pd.reset_option('display.max_columns')\n",
    "    pd.reset_option('display.max_rows')\n",
    "display_full_dataframe(results_df)"
   ]
  },
  {
   "cell_type": "markdown",
   "metadata": {},
   "source": [
    "# Prediction"
   ]
  },
  {
   "cell_type": "markdown",
   "metadata": {
    "jp-MarkdownHeadingCollapsed": true
   },
   "source": [
    "## Loading Dataset"
   ]
  },
  {
   "cell_type": "code",
   "execution_count": null,
   "metadata": {},
   "outputs": [],
   "source": [
    "test_file_path = r'equity-post-HCT-survival-predictions/test.csv'"
   ]
  },
  {
   "cell_type": "code",
   "execution_count": null,
   "metadata": {},
   "outputs": [],
   "source": [
    "test_dataframe = pd.read_csv(test_file_path)\n",
    "test_dataframe"
   ]
  },
  {
   "cell_type": "markdown",
   "metadata": {
    "jp-MarkdownHeadingCollapsed": true
   },
   "source": [
    "## Imputaion"
   ]
  },
  {
   "cell_type": "markdown",
   "metadata": {},
   "source": [
    "### Missing Percentage"
   ]
  },
  {
   "cell_type": "code",
   "execution_count": null,
   "metadata": {},
   "outputs": [],
   "source": [
    "import pandas as pd\n",
    "\n",
    "# Function to calculate missing data information\n",
    "def AA02_missing_data_info(AA02_sample_data):\n",
    "    # Calculate missing count and percentage\n",
    "    AA02_missing_count = AA02_sample_data.isnull().sum()\n",
    "    AA02_missing_percentage = (AA02_missing_count / len(AA02_sample_data)) * 100\n",
    "\n",
    "    # Create a DataFrame with missing data information\n",
    "    AA02_missing_info = pd.DataFrame({\n",
    "        'AA02_Variable': AA02_sample_data.columns,\n",
    "        'AA02_Missing_Count': AA02_missing_count.values,\n",
    "        'AA02_Missing_Percentage': AA02_missing_percentage.values\n",
    "    }).reset_index(drop=True)\n",
    "\n",
    "    # Format the percentage column\n",
    "    AA02_missing_info['AA02_Missing_Percentage'] = AA02_missing_info['AA02_Missing_Percentage'].round(2).astype(str) + '%'\n",
    "\n",
    "    return AA02_missing_info\n",
    "\n",
    "# Call the function\n",
    "# AA02_missing_data_info(test_dataframe)"
   ]
  },
  {
   "cell_type": "markdown",
   "metadata": {},
   "source": [
    "### Categorical imputaion"
   ]
  },
  {
   "cell_type": "code",
   "execution_count": null,
   "metadata": {},
   "outputs": [],
   "source": [
    "from sklearn.impute import SimpleImputer # type: ignore\n",
    "\n",
    "test_dataframe_imputed = test_dataframe.copy()\n",
    "\n",
    "# Initialize SimpleImputer with most_frequent strategy\n",
    "AA02_imputer = SimpleImputer(strategy='most_frequent')\n",
    "\n",
    "if 'efs' in AA02_categorical_columns:\n",
    "    AA02_categorical_columns.remove('efs')\n",
    "\n",
    "# Apply imputation\n",
    "test_dataframe_imputed[AA02_categorical_columns] = AA02_imputer.fit_transform(test_dataframe_imputed[AA02_categorical_columns])"
   ]
  },
  {
   "cell_type": "markdown",
   "metadata": {},
   "source": [
    "### Non Categorical Imputation "
   ]
  },
  {
   "cell_type": "code",
   "execution_count": null,
   "metadata": {},
   "outputs": [],
   "source": [
    "import warnings\n",
    "warnings.filterwarnings('ignore')\n",
    "\n",
    "import numpy as np\n",
    "import pandas as pd\n",
    "\n",
    "from sklearn.impute import SimpleImputer # type: ignore\n",
    "import numpy as np\n",
    "\n",
    "def AA02_impute_columns_with_mean_or_median(AA02_df, columns):\n",
    "    for col in columns:\n",
    "        # Ensure column is numeric\n",
    "        AA02_df[col] = pd.to_numeric(AA02_df[col], errors='coerce')\n",
    "\n",
    "        # Replace invalid values with NaN\n",
    "        AA02_df[col].replace([np.inf, -np.inf], np.nan, inplace=True)\n",
    "\n",
    "        # Skip if column has no missing values\n",
    "        if AA02_df[col].isnull().sum() == 0:\n",
    "            continue\n",
    "\n",
    "        # Calculate mean and median\n",
    "        AA02_col_mean = AA02_df[col].mean()\n",
    "        AA02_col_median = AA02_df[col].median()\n",
    "\n",
    "        # Choose strategy based on significant difference\n",
    "        if abs(AA02_col_mean - AA02_col_median) / max(abs(AA02_col_mean), abs(AA02_col_median)) > 0.1:  # Significant difference\n",
    "            print(f\"Imputing '{col}' with median (significant difference between mean and median)\")\n",
    "            AA02_imputer = SimpleImputer(strategy='median')\n",
    "        else:\n",
    "            print(f\"Imputing '{col}' with mean (no significant difference between mean and median)\")\n",
    "            AA02_imputer = SimpleImputer(strategy='mean')\n",
    "\n",
    "        # Apply the AA02_imputer\n",
    "        AA02_df[[col]] = AA02_imputer.fit_transform(AA02_df[[col]])\n",
    "\n",
    "    return AA02_df\n",
    "\n",
    "if 'efs_time' in AA02_non_categorical_columns:\n",
    "    AA02_non_categorical_columns.remove('efs_time')\n",
    "\n",
    "\n",
    "test_dataframe_imputed = AA02_impute_columns_with_mean_or_median(test_dataframe_imputed, AA02_non_categorical_columns)"
   ]
  },
  {
   "cell_type": "markdown",
   "metadata": {
    "jp-MarkdownHeadingCollapsed": true
   },
   "source": [
    "## Encoding"
   ]
  },
  {
   "cell_type": "code",
   "execution_count": null,
   "metadata": {},
   "outputs": [],
   "source": [
    "from sklearn.preprocessing import OrdinalEncoder # type: ignore\n",
    "\n",
    "# Define order for ordinal columns\n",
    "AA02_ordinal_categories = [\n",
    "    # ['Import', 'Export'],  # Order for 'Import_Export'\n",
    "    # ['B', 'A']             # Order for 'Grades' (A is superior to B) A will be written as 1 and b will be written as 0\n",
    "]\n",
    "# Initialize OrdinalEncoder for ordinal columns with specified order\n",
    "ordinal_encoder_ordinal = OrdinalEncoder(categories=AA02_ordinal_categories)\n",
    "\n",
    "# Initialize OrdinalEncoder for nominal columns (order does not matter)\n",
    "ordinal_encoder_nominal = OrdinalEncoder()\n",
    "\n",
    "# Make a copy of the DataFrame\n",
    "test_dataframe_imputed_ordinally_encoded = test_dataframe_imputed.copy()\n",
    "\n",
    "# Encode ordinal columns\n",
    "test_dataframe_imputed_ordinally_encoded[AA02_categorical_ordinal_columns] = ordinal_encoder_ordinal.fit_transform(\n",
    "    test_dataframe_imputed_ordinally_encoded[AA02_categorical_ordinal_columns].astype(str)\n",
    ")\n",
    "\n",
    "# Encode nominal columns\n",
    "test_dataframe_imputed_ordinally_encoded[AA02_categorical_nominal_columns] = ordinal_encoder_nominal.fit_transform(\n",
    "    test_dataframe_imputed_ordinally_encoded[AA02_categorical_nominal_columns].astype(str)\n",
    ")\n",
    "\n",
    "# AA02_display the encoded DataFrame\n",
    "print(\"DataFrame with Encoded Categorical Variables:\")\n",
    "test_dataframe_imputed_ordinally_encoded.head()"
   ]
  },
  {
   "cell_type": "markdown",
   "metadata": {},
   "source": [
    "## Transformation"
   ]
  },
  {
   "cell_type": "code",
   "execution_count": null,
   "metadata": {},
   "outputs": [],
   "source": [
    "test_dataframe_transformed, log = apply_transformations(test_dataframe_imputed_ordinally_encoded,AA02_non_categorical_columns) \n",
    "test_dataframe_transformed"
   ]
  },
  {
   "cell_type": "markdown",
   "metadata": {},
   "source": [
    "## Prediction"
   ]
  },
  {
   "cell_type": "code",
   "execution_count": null,
   "metadata": {},
   "outputs": [],
   "source": [
    "# Ensure the dataset contains only the features the model was trained on\n",
    "AA02_x_test_subset = test_dataframe_transformed[AA02_x_train.columns.tolist()]\n",
    "\n",
    "# Make predictions\n",
    "efs_time_predictions = best_model.predict(AA02_x_test_subset)\n",
    "\n",
    "# Convert predictions to a suitable format (flatten the array)\n",
    "efs_time_predictions = efs_time_predictions.ravel()\n",
    "\n",
    "# Add predictions to the dataset for reference\n",
    "test_dataframe_transformed['Predicted_efs_time'] = efs_time_predictions\n",
    "\n",
    "# Create a DataFrame for ID and predictions\n",
    "predictions_output = test_dataframe_transformed[['ID', 'Predicted_efs_time']]\n",
    "\n",
    "# Display the DataFrame with ID and predictions\n",
    "predictions_output"
   ]
  },
  {
   "cell_type": "markdown",
   "metadata": {
    "jp-MarkdownHeadingCollapsed": true
   },
   "source": [
    "# Notebook Closed"
   ]
  },
  {
   "cell_type": "raw",
   "metadata": {},
   "source": [
    "Submission.csv still need to be mad\n",
    "enchance the c-index\n",
    "use multi threading for enhanced c-index"
   ]
  }
 ],
 "metadata": {
  "colab": {
   "collapsed_sections": [
    "Ov_P-pFvmxDc",
    "9UfuOEJu_20x",
    "pomKw8hsm4Nd",
    "-c0vzp-EnMXR",
    "zLQrAG0mBeZ2",
    "Lcd9-pVWBsa-"
   ],
   "provenance": []
  },
  "kernelspec": {
   "display_name": "Python 3 (ipykernel)",
   "language": "python",
   "name": "python3"
  },
  "language_info": {
   "codemirror_mode": {
    "name": "ipython",
    "version": 3
   },
   "file_extension": ".py",
   "mimetype": "text/x-python",
   "name": "python",
   "nbconvert_exporter": "python",
   "pygments_lexer": "ipython3",
   "version": "3.12.4"
  }
 },
 "nbformat": 4,
 "nbformat_minor": 4
}
