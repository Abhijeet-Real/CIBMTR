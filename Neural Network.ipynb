{
 "cells": [
  {
   "cell_type": "markdown",
   "metadata": {
    "id": "Ov_P-pFvmxDc"
   },
   "source": [
    "# Data Collection"
   ]
  },
  {
   "cell_type": "markdown",
   "metadata": {
    "id": "m3rQtqsf_0Nm"
   },
   "source": [
    "## Importing Data"
   ]
  },
  {
   "cell_type": "code",
   "execution_count": 3,
   "metadata": {},
   "outputs": [
    {
     "name": "stdout",
     "output_type": "stream",
     "text": [
      "Requirement already satisfied: pandas in c:\\users\\abhijeet\\anaconda3\\lib\\site-packages (2.2.2)\n",
      "Requirement already satisfied: numpy>=1.26.0 in c:\\users\\abhijeet\\anaconda3\\lib\\site-packages (from pandas) (1.26.4)\n",
      "Requirement already satisfied: python-dateutil>=2.8.2 in c:\\users\\abhijeet\\appdata\\roaming\\python\\python312\\site-packages (from pandas) (2.9.0.post0)\n",
      "Requirement already satisfied: pytz>=2020.1 in c:\\users\\abhijeet\\anaconda3\\lib\\site-packages (from pandas) (2024.1)\n",
      "Requirement already satisfied: tzdata>=2022.7 in c:\\users\\abhijeet\\anaconda3\\lib\\site-packages (from pandas) (2023.3)\n",
      "Requirement already satisfied: six>=1.5 in c:\\users\\abhijeet\\appdata\\roaming\\python\\python312\\site-packages (from python-dateutil>=2.8.2->pandas) (1.16.0)\n",
      "Note: you may need to restart the kernel to use updated packages.\n",
      "Requirement already satisfied: scipy in c:\\users\\abhijeet\\anaconda3\\lib\\site-packages (1.13.1)\n",
      "Requirement already satisfied: numpy<2.3,>=1.22.4 in c:\\users\\abhijeet\\anaconda3\\lib\\site-packages (from scipy) (1.26.4)\n",
      "Note: you may need to restart the kernel to use updated packages.\n",
      "^C\n",
      "Note: you may need to restart the kernel to use updated packages.\n",
      "Requirement already satisfied: numpy in c:\\users\\abhijeet\\anaconda3\\lib\\site-packages (1.26.4)\n",
      "Requirement already satisfied: matplotlib in c:\\users\\abhijeet\\anaconda3\\lib\\site-packages (3.8.4)\n",
      "Requirement already satisfied: contourpy>=1.0.1 in c:\\users\\abhijeet\\anaconda3\\lib\\site-packages (from matplotlib) (1.2.0)\n",
      "Requirement already satisfied: cycler>=0.10 in c:\\users\\abhijeet\\anaconda3\\lib\\site-packages (from matplotlib) (0.11.0)\n",
      "Requirement already satisfied: fonttools>=4.22.0 in c:\\users\\abhijeet\\anaconda3\\lib\\site-packages (from matplotlib) (4.51.0)\n",
      "Requirement already satisfied: kiwisolver>=1.3.1 in c:\\users\\abhijeet\\anaconda3\\lib\\site-packages (from matplotlib) (1.4.4)\n",
      "Requirement already satisfied: numpy>=1.21 in c:\\users\\abhijeet\\anaconda3\\lib\\site-packages (from matplotlib) (1.26.4)\n",
      "Requirement already satisfied: packaging>=20.0 in c:\\users\\abhijeet\\appdata\\roaming\\python\\python312\\site-packages (from matplotlib) (24.1)\n",
      "Requirement already satisfied: pillow>=8 in c:\\users\\abhijeet\\anaconda3\\lib\\site-packages (from matplotlib) (10.3.0)\n",
      "Requirement already satisfied: pyparsing>=2.3.1 in c:\\users\\abhijeet\\anaconda3\\lib\\site-packages (from matplotlib) (3.0.9)\n",
      "Requirement already satisfied: python-dateutil>=2.7 in c:\\users\\abhijeet\\appdata\\roaming\\python\\python312\\site-packages (from matplotlib) (2.9.0.post0)\n",
      "Requirement already satisfied: six>=1.5 in c:\\users\\abhijeet\\appdata\\roaming\\python\\python312\\site-packages (from python-dateutil>=2.7->matplotlib) (1.16.0)\n",
      "Note: you may need to restart the kernel to use updated packages.\n",
      "^C\n",
      "Note: you may need to restart the kernel to use updated packages.\n",
      "^C\n",
      "Note: you may need to restart the kernel to use updated packages.\n",
      "^C\n",
      "Note: you may need to restart the kernel to use updated packages.\n",
      "^C\n",
      "Note: you may need to restart the kernel to use updated packages.\n",
      "^C\n",
      "Note: you may need to restart the kernel to use updated packages.\n",
      "^C\n",
      "Note: you may need to restart the kernel to use updated packages.\n",
      "Requirement already satisfied: scikit-learn in c:\\users\\abhijeet\\anaconda3\\lib\\site-packages (1.4.2)\n",
      "Requirement already satisfied: numpy>=1.19.5 in c:\\users\\abhijeet\\anaconda3\\lib\\site-packages (from scikit-learn) (1.26.4)\n",
      "Requirement already satisfied: scipy>=1.6.0 in c:\\users\\abhijeet\\anaconda3\\lib\\site-packages (from scikit-learn) (1.13.1)\n",
      "Requirement already satisfied: joblib>=1.2.0 in c:\\users\\abhijeet\\anaconda3\\lib\\site-packages (from scikit-learn) (1.4.2)\n",
      "Requirement already satisfied: threadpoolctl>=2.0.0 in c:\\users\\abhijeet\\anaconda3\\lib\\site-packages (from scikit-learn) (2.2.0)\n",
      "Requirement already satisfied: statsmodels in c:\\users\\abhijeet\\anaconda3\\lib\\site-packages (0.14.2)\n",
      "Requirement already satisfied: numpy>=1.22.3 in c:\\users\\abhijeet\\anaconda3\\lib\\site-packages (from statsmodels) (1.26.4)\n",
      "Requirement already satisfied: scipy!=1.9.2,>=1.8 in c:\\users\\abhijeet\\anaconda3\\lib\\site-packages (from statsmodels) (1.13.1)\n",
      "Requirement already satisfied: pandas!=2.1.0,>=1.4 in c:\\users\\abhijeet\\anaconda3\\lib\\site-packages (from statsmodels) (2.2.2)\n",
      "Requirement already satisfied: patsy>=0.5.6 in c:\\users\\abhijeet\\anaconda3\\lib\\site-packages (from statsmodels) (0.5.6)\n",
      "Requirement already satisfied: packaging>=21.3 in c:\\users\\abhijeet\\appdata\\roaming\\python\\python312\\site-packages (from statsmodels) (24.1)\n",
      "Requirement already satisfied: python-dateutil>=2.8.2 in c:\\users\\abhijeet\\appdata\\roaming\\python\\python312\\site-packages (from pandas!=2.1.0,>=1.4->statsmodels) (2.9.0.post0)\n",
      "Requirement already satisfied: pytz>=2020.1 in c:\\users\\abhijeet\\anaconda3\\lib\\site-packages (from pandas!=2.1.0,>=1.4->statsmodels) (2024.1)\n",
      "Requirement already satisfied: tzdata>=2022.7 in c:\\users\\abhijeet\\anaconda3\\lib\\site-packages (from pandas!=2.1.0,>=1.4->statsmodels) (2023.3)\n",
      "Requirement already satisfied: six in c:\\users\\abhijeet\\appdata\\roaming\\python\\python312\\site-packages (from patsy>=0.5.6->statsmodels) (1.16.0)\n",
      "Requirement already satisfied: tensorflow in c:\\users\\abhijeet\\anaconda3\\lib\\site-packages (2.18.0)\n",
      "Requirement already satisfied: tensorflow-intel==2.18.0 in c:\\users\\abhijeet\\anaconda3\\lib\\site-packages (from tensorflow) (2.18.0)\n",
      "Requirement already satisfied: absl-py>=1.0.0 in c:\\users\\abhijeet\\anaconda3\\lib\\site-packages (from tensorflow-intel==2.18.0->tensorflow) (2.1.0)\n",
      "Requirement already satisfied: astunparse>=1.6.0 in c:\\users\\abhijeet\\anaconda3\\lib\\site-packages (from tensorflow-intel==2.18.0->tensorflow) (1.6.3)\n",
      "Requirement already satisfied: flatbuffers>=24.3.25 in c:\\users\\abhijeet\\anaconda3\\lib\\site-packages (from tensorflow-intel==2.18.0->tensorflow) (24.3.25)\n",
      "Requirement already satisfied: gast!=0.5.0,!=0.5.1,!=0.5.2,>=0.2.1 in c:\\users\\abhijeet\\anaconda3\\lib\\site-packages (from tensorflow-intel==2.18.0->tensorflow) (0.6.0)\n",
      "Requirement already satisfied: google-pasta>=0.1.1 in c:\\users\\abhijeet\\anaconda3\\lib\\site-packages (from tensorflow-intel==2.18.0->tensorflow) (0.2.0)\n",
      "Requirement already satisfied: libclang>=13.0.0 in c:\\users\\abhijeet\\anaconda3\\lib\\site-packages (from tensorflow-intel==2.18.0->tensorflow) (18.1.1)\n",
      "Requirement already satisfied: opt-einsum>=2.3.2 in c:\\users\\abhijeet\\anaconda3\\lib\\site-packages (from tensorflow-intel==2.18.0->tensorflow) (3.4.0)\n",
      "Requirement already satisfied: packaging in c:\\users\\abhijeet\\appdata\\roaming\\python\\python312\\site-packages (from tensorflow-intel==2.18.0->tensorflow) (24.1)\n",
      "Requirement already satisfied: protobuf!=4.21.0,!=4.21.1,!=4.21.2,!=4.21.3,!=4.21.4,!=4.21.5,<6.0.0dev,>=3.20.3 in c:\\users\\abhijeet\\anaconda3\\lib\\site-packages (from tensorflow-intel==2.18.0->tensorflow) (3.20.3)\n",
      "Requirement already satisfied: requests<3,>=2.21.0 in c:\\users\\abhijeet\\anaconda3\\lib\\site-packages (from tensorflow-intel==2.18.0->tensorflow) (2.32.2)\n",
      "Requirement already satisfied: setuptools in c:\\users\\abhijeet\\anaconda3\\lib\\site-packages (from tensorflow-intel==2.18.0->tensorflow) (69.5.1)\n",
      "Requirement already satisfied: six>=1.12.0 in c:\\users\\abhijeet\\appdata\\roaming\\python\\python312\\site-packages (from tensorflow-intel==2.18.0->tensorflow) (1.16.0)\n",
      "Requirement already satisfied: termcolor>=1.1.0 in c:\\users\\abhijeet\\anaconda3\\lib\\site-packages (from tensorflow-intel==2.18.0->tensorflow) (2.5.0)\n",
      "Requirement already satisfied: typing-extensions>=3.6.6 in c:\\users\\abhijeet\\anaconda3\\lib\\site-packages (from tensorflow-intel==2.18.0->tensorflow) (4.11.0)\n",
      "Requirement already satisfied: wrapt>=1.11.0 in c:\\users\\abhijeet\\anaconda3\\lib\\site-packages (from tensorflow-intel==2.18.0->tensorflow) (1.14.1)\n",
      "Requirement already satisfied: grpcio<2.0,>=1.24.3 in c:\\users\\abhijeet\\anaconda3\\lib\\site-packages (from tensorflow-intel==2.18.0->tensorflow) (1.68.1)\n",
      "Requirement already satisfied: tensorboard<2.19,>=2.18 in c:\\users\\abhijeet\\anaconda3\\lib\\site-packages (from tensorflow-intel==2.18.0->tensorflow) (2.18.0)\n",
      "Requirement already satisfied: keras>=3.5.0 in c:\\users\\abhijeet\\anaconda3\\lib\\site-packages (from tensorflow-intel==2.18.0->tensorflow) (3.7.0)\n",
      "Requirement already satisfied: numpy<2.1.0,>=1.26.0 in c:\\users\\abhijeet\\anaconda3\\lib\\site-packages (from tensorflow-intel==2.18.0->tensorflow) (1.26.4)\n",
      "Requirement already satisfied: h5py>=3.11.0 in c:\\users\\abhijeet\\anaconda3\\lib\\site-packages (from tensorflow-intel==2.18.0->tensorflow) (3.11.0)\n",
      "Requirement already satisfied: ml-dtypes<0.5.0,>=0.4.0 in c:\\users\\abhijeet\\anaconda3\\lib\\site-packages (from tensorflow-intel==2.18.0->tensorflow) (0.4.1)\n",
      "Requirement already satisfied: wheel<1.0,>=0.23.0 in c:\\users\\abhijeet\\anaconda3\\lib\\site-packages (from astunparse>=1.6.0->tensorflow-intel==2.18.0->tensorflow) (0.43.0)\n",
      "Requirement already satisfied: rich in c:\\users\\abhijeet\\anaconda3\\lib\\site-packages (from keras>=3.5.0->tensorflow-intel==2.18.0->tensorflow) (13.3.5)\n",
      "Requirement already satisfied: namex in c:\\users\\abhijeet\\anaconda3\\lib\\site-packages (from keras>=3.5.0->tensorflow-intel==2.18.0->tensorflow) (0.0.8)\n",
      "Requirement already satisfied: optree in c:\\users\\abhijeet\\anaconda3\\lib\\site-packages (from keras>=3.5.0->tensorflow-intel==2.18.0->tensorflow) (0.13.1)\n",
      "Requirement already satisfied: charset-normalizer<4,>=2 in c:\\users\\abhijeet\\anaconda3\\lib\\site-packages (from requests<3,>=2.21.0->tensorflow-intel==2.18.0->tensorflow) (2.0.4)\n",
      "Requirement already satisfied: idna<4,>=2.5 in c:\\users\\abhijeet\\anaconda3\\lib\\site-packages (from requests<3,>=2.21.0->tensorflow-intel==2.18.0->tensorflow) (3.7)\n",
      "Requirement already satisfied: urllib3<3,>=1.21.1 in c:\\users\\abhijeet\\anaconda3\\lib\\site-packages (from requests<3,>=2.21.0->tensorflow-intel==2.18.0->tensorflow) (2.2.2)\n",
      "Requirement already satisfied: certifi>=2017.4.17 in c:\\users\\abhijeet\\anaconda3\\lib\\site-packages (from requests<3,>=2.21.0->tensorflow-intel==2.18.0->tensorflow) (2024.12.14)\n",
      "Requirement already satisfied: markdown>=2.6.8 in c:\\users\\abhijeet\\anaconda3\\lib\\site-packages (from tensorboard<2.19,>=2.18->tensorflow-intel==2.18.0->tensorflow) (3.4.1)\n",
      "Requirement already satisfied: tensorboard-data-server<0.8.0,>=0.7.0 in c:\\users\\abhijeet\\anaconda3\\lib\\site-packages (from tensorboard<2.19,>=2.18->tensorflow-intel==2.18.0->tensorflow) (0.7.2)\n",
      "Requirement already satisfied: werkzeug>=1.0.1 in c:\\users\\abhijeet\\anaconda3\\lib\\site-packages (from tensorboard<2.19,>=2.18->tensorflow-intel==2.18.0->tensorflow) (3.0.3)\n",
      "Requirement already satisfied: MarkupSafe>=2.1.1 in c:\\users\\abhijeet\\anaconda3\\lib\\site-packages (from werkzeug>=1.0.1->tensorboard<2.19,>=2.18->tensorflow-intel==2.18.0->tensorflow) (2.1.3)\n",
      "Requirement already satisfied: markdown-it-py<3.0.0,>=2.2.0 in c:\\users\\abhijeet\\anaconda3\\lib\\site-packages (from rich->keras>=3.5.0->tensorflow-intel==2.18.0->tensorflow) (2.2.0)\n",
      "Requirement already satisfied: pygments<3.0.0,>=2.13.0 in c:\\users\\abhijeet\\appdata\\roaming\\python\\python312\\site-packages (from rich->keras>=3.5.0->tensorflow-intel==2.18.0->tensorflow) (2.18.0)\n",
      "Requirement already satisfied: mdurl~=0.1 in c:\\users\\abhijeet\\anaconda3\\lib\\site-packages (from markdown-it-py<3.0.0,>=2.2.0->rich->keras>=3.5.0->tensorflow-intel==2.18.0->tensorflow) (0.1.0)\n",
      "Requirement already satisfied: scikit-survival in c:\\users\\abhijeet\\anaconda3\\lib\\site-packages (0.23.1)\n",
      "Requirement already satisfied: ecos in c:\\users\\abhijeet\\anaconda3\\lib\\site-packages (from scikit-survival) (2.0.14)\n",
      "Requirement already satisfied: joblib in c:\\users\\abhijeet\\anaconda3\\lib\\site-packages (from scikit-survival) (1.4.2)\n",
      "Requirement already satisfied: numexpr in c:\\users\\abhijeet\\anaconda3\\lib\\site-packages (from scikit-survival) (2.8.7)\n",
      "Requirement already satisfied: numpy in c:\\users\\abhijeet\\anaconda3\\lib\\site-packages (from scikit-survival) (1.26.4)\n",
      "Requirement already satisfied: osqp!=0.6.0,!=0.6.1 in c:\\users\\abhijeet\\anaconda3\\lib\\site-packages (from scikit-survival) (0.6.7.post3)\n",
      "Requirement already satisfied: pandas>=1.4.0 in c:\\users\\abhijeet\\anaconda3\\lib\\site-packages (from scikit-survival) (2.2.2)\n",
      "Requirement already satisfied: scipy>=1.3.2 in c:\\users\\abhijeet\\anaconda3\\lib\\site-packages (from scikit-survival) (1.13.1)\n",
      "Requirement already satisfied: scikit-learn<1.6,>=1.4.0 in c:\\users\\abhijeet\\anaconda3\\lib\\site-packages (from scikit-survival) (1.4.2)\n",
      "Requirement already satisfied: qdldl in c:\\users\\abhijeet\\anaconda3\\lib\\site-packages (from osqp!=0.6.0,!=0.6.1->scikit-survival) (0.1.7.post4)\n",
      "Requirement already satisfied: python-dateutil>=2.8.2 in c:\\users\\abhijeet\\appdata\\roaming\\python\\python312\\site-packages (from pandas>=1.4.0->scikit-survival) (2.9.0.post0)\n",
      "Requirement already satisfied: pytz>=2020.1 in c:\\users\\abhijeet\\anaconda3\\lib\\site-packages (from pandas>=1.4.0->scikit-survival) (2024.1)\n",
      "Requirement already satisfied: tzdata>=2022.7 in c:\\users\\abhijeet\\anaconda3\\lib\\site-packages (from pandas>=1.4.0->scikit-survival) (2023.3)\n",
      "Requirement already satisfied: threadpoolctl>=2.0.0 in c:\\users\\abhijeet\\anaconda3\\lib\\site-packages (from scikit-learn<1.6,>=1.4.0->scikit-survival) (2.2.0)\n",
      "Requirement already satisfied: six>=1.5 in c:\\users\\abhijeet\\appdata\\roaming\\python\\python312\\site-packages (from python-dateutil>=2.8.2->pandas>=1.4.0->scikit-survival) (1.16.0)\n",
      "Requirement already satisfied: xgboost in c:\\users\\abhijeet\\anaconda3\\lib\\site-packages (2.1.3)\n",
      "Requirement already satisfied: numpy in c:\\users\\abhijeet\\anaconda3\\lib\\site-packages (from xgboost) (1.26.4)\n",
      "Requirement already satisfied: scipy in c:\\users\\abhijeet\\anaconda3\\lib\\site-packages (from xgboost) (1.13.1)\n",
      "Requirement already satisfied: factor-analyzer in c:\\users\\abhijeet\\anaconda3\\lib\\site-packages (0.5.1)\n",
      "Requirement already satisfied: pandas in c:\\users\\abhijeet\\anaconda3\\lib\\site-packages (from factor-analyzer) (2.2.2)\n",
      "Requirement already satisfied: scipy in c:\\users\\abhijeet\\anaconda3\\lib\\site-packages (from factor-analyzer) (1.13.1)\n",
      "Requirement already satisfied: numpy in c:\\users\\abhijeet\\anaconda3\\lib\\site-packages (from factor-analyzer) (1.26.4)\n",
      "Requirement already satisfied: scikit-learn in c:\\users\\abhijeet\\anaconda3\\lib\\site-packages (from factor-analyzer) (1.4.2)\n",
      "Requirement already satisfied: python-dateutil>=2.8.2 in c:\\users\\abhijeet\\appdata\\roaming\\python\\python312\\site-packages (from pandas->factor-analyzer) (2.9.0.post0)\n",
      "Requirement already satisfied: pytz>=2020.1 in c:\\users\\abhijeet\\anaconda3\\lib\\site-packages (from pandas->factor-analyzer) (2024.1)\n",
      "Requirement already satisfied: tzdata>=2022.7 in c:\\users\\abhijeet\\anaconda3\\lib\\site-packages (from pandas->factor-analyzer) (2023.3)\n",
      "Requirement already satisfied: joblib>=1.2.0 in c:\\users\\abhijeet\\anaconda3\\lib\\site-packages (from scikit-learn->factor-analyzer) (1.4.2)\n",
      "Requirement already satisfied: threadpoolctl>=2.0.0 in c:\\users\\abhijeet\\anaconda3\\lib\\site-packages (from scikit-learn->factor-analyzer) (2.2.0)\n",
      "Requirement already satisfied: six>=1.5 in c:\\users\\abhijeet\\appdata\\roaming\\python\\python312\\site-packages (from python-dateutil>=2.8.2->pandas->factor-analyzer) (1.16.0)\n"
     ]
    }
   ],
   "source": [
    "%pip install pandas\n",
    "%pip install scipy\n",
    "%pip install numpy\n",
    "%pip install matplotlib\n",
    "%pip install scikit-learn\n",
    "%pip install statsmodels\n",
    "%pip install tensorflow\n",
    "%pip install scikit-survival\n",
    "%pip install xgboost\n",
    "%pip install factor-analyzer"
   ]
  },
  {
   "cell_type": "code",
   "execution_count": 37,
   "metadata": {
    "id": "PW6dKOsUKFpr"
   },
   "outputs": [],
   "source": [
    "import pandas as pd\n",
    "AA02_data = pd.read_csv(r\"equity-post-HCT-survival-predictions\\train.csv\")"
   ]
  },
  {
   "cell_type": "markdown",
   "metadata": {
    "id": "9UfuOEJu_20x"
   },
   "source": [
    "## Checking structure of Data"
   ]
  },
  {
   "cell_type": "code",
   "execution_count": 39,
   "metadata": {
    "colab": {
     "base_uri": "https://localhost:8080/"
    },
    "id": "frwjwvoyLEjU",
    "outputId": "fe55ebba-10ae-4198-ac49-972bead63637"
   },
   "outputs": [],
   "source": [
    "# AA02_data.info()"
   ]
  },
  {
   "cell_type": "code",
   "execution_count": 40,
   "metadata": {
    "colab": {
     "base_uri": "https://localhost:8080/"
    },
    "id": "PFxQYHKZKmGJ",
    "outputId": "921a7bb1-9931-464a-a334-74e735191276"
   },
   "outputs": [],
   "source": [
    "# AA02_data.head(3)"
   ]
  },
  {
   "cell_type": "markdown",
   "metadata": {
    "id": "pomKw8hsm4Nd"
   },
   "source": [
    "# Data Preprocessing"
   ]
  },
  {
   "cell_type": "markdown",
   "metadata": {
    "id": "i3I5RVel8TUT"
   },
   "source": [
    "## Data Sampling"
   ]
  },
  {
   "cell_type": "code",
   "execution_count": 43,
   "metadata": {
    "colab": {
     "base_uri": "https://localhost:8080/",
     "height": 285
    },
    "id": "u3ead7MnL41i",
    "outputId": "1889c420-9f54-402d-ee74-208d705cc349"
   },
   "outputs": [],
   "source": [
    "# Sample 5001 of the data\n",
    "# AA02_sample_data_0 = AA02_data.sample(n=5001, random_state=55002)\n",
    "\n",
    "AA02_sample_data_0 = AA02_data.copy()\n",
    "\n",
    "# AA02_display the first few rows of the sample\n",
    "# AA02_sample_data_0.head(3)"
   ]
  },
  {
   "cell_type": "code",
   "execution_count": 44,
   "metadata": {
    "id": "d1uDXbKRBmni"
   },
   "outputs": [],
   "source": [
    "def AA02_check_unique_values(dataframe):\n",
    "    \"\"\"\n",
    "    Calculate the number of unique values, total values,\n",
    "    and percentage of unique values for each column in the DataFrame.\n",
    "\n",
    "    Args:\n",
    "        dataframe (pd.DataFrame): The input DataFrame.\n",
    "\n",
    "    Returns:\n",
    "        pd.DataFrame: A summary DataFrame with unique value statistics.\n",
    "    \"\"\"\n",
    "    # Calculate unique values, total values, and percentage of unique values\n",
    "    unique_counts = dataframe.nunique()\n",
    "    total_counts = dataframe.count()\n",
    "    percentages = (unique_counts / total_counts) * 100\n",
    "\n",
    "    # Combine the results into a DataFrame for better AA02_display\n",
    "    summary_AA02_df = pd.DataFrame({\n",
    "        'Unique Values': unique_counts,\n",
    "        'Total Values': total_counts,\n",
    "        'Percentage (%)': percentages\n",
    "    })\n",
    "\n",
    "    return summary_AA02_df"
   ]
  },
  {
   "cell_type": "markdown",
   "metadata": {
    "id": "mbzX_Hst9FgJ"
   },
   "source": [
    "## Categorizing Variables"
   ]
  },
  {
   "cell_type": "code",
   "execution_count": 46,
   "metadata": {
    "colab": {
     "base_uri": "https://localhost:8080/"
    },
    "id": "Lz47rFRxMeFg",
    "outputId": "b93e9714-9e21-4638-b58f-7483f67d06d8"
   },
   "outputs": [],
   "source": [
    "# AA02_sample_data_0.columns"
   ]
  },
  {
   "cell_type": "code",
   "execution_count": 47,
   "metadata": {
    "colab": {
     "base_uri": "https://localhost:8080/",
     "height": 551
    },
    "id": "iLENaFKhCCZY",
    "outputId": "c300e4f6-dd5e-4871-e1ff-41ad0ecbf488"
   },
   "outputs": [],
   "source": [
    "# Check whether a Variable is index or not\n",
    "# AA02_check_unique_values(AA02_sample_data_0)"
   ]
  },
  {
   "cell_type": "code",
   "execution_count": 48,
   "metadata": {},
   "outputs": [],
   "source": [
    "# Load the CSV file\n",
    "file_path = r'equity-post-HCT-survival-predictions\\data_dictionary.csv'  # Update with your actual file path\n",
    "data = pd.read_csv(file_path)\n",
    "\n",
    "# Extract all variables\n",
    "AA02_columns = data['variable'].tolist()\n",
    "\n",
    "# Display the results\n",
    "# print(\"All Columns:\", AA02_columns)"
   ]
  },
  {
   "cell_type": "code",
   "execution_count": 49,
   "metadata": {
    "colab": {
     "base_uri": "https://localhost:8080/",
     "height": 143
    },
    "id": "s0MATwLn-rrs",
    "outputId": "71f4a2f1-aea4-4be8-a66a-48f9d71758a0"
   },
   "outputs": [],
   "source": [
    "AA02_sample_data_1 = AA02_sample_data_0[AA02_columns]\n",
    "# AA02_sample_data_1.head(3)"
   ]
  },
  {
   "cell_type": "code",
   "execution_count": 50,
   "metadata": {
    "colab": {
     "base_uri": "https://localhost:8080/",
     "height": 363
    },
    "id": "IlYKcegPMXq-",
    "outputId": "69b61b95-ad2b-4b14-ce0d-ec64731ccb35"
   },
   "outputs": [],
   "source": [
    "# Verify whether all variables are non index variables\n",
    "# AA02_check_unique_values(AA02_sample_data_1)"
   ]
  },
  {
   "cell_type": "code",
   "execution_count": 51,
   "metadata": {
    "id": "FpivejDiEVvn"
   },
   "outputs": [],
   "source": [
    "data['type'] = data['type'].str.strip().str.lower()\n",
    "\n",
    "# Separate categorical and numerical columns\n",
    "AA02_categorical_columns = data[data['type'] == 'categorical']['variable'].tolist()\n",
    "AA02_non_categorical_columns = data[data['type'] == 'numerical']['variable'].tolist()\n",
    "# print(\"Categorical Columns:\", AA02_categorical_columns)\n",
    "# print(\"Numerical Columns:\", AA02_non_categorical_columns)"
   ]
  },
  {
   "cell_type": "code",
   "execution_count": 52,
   "metadata": {
    "id": "CIka3FHcG6lU"
   },
   "outputs": [],
   "source": [
    "## Divde Categorical variable into two parts ordinal & nominal\n",
    "AA02_categorical_ordinal_columns = []\n",
    "AA02_categorical_nominal_columns = AA02_categorical_columns"
   ]
  },
  {
   "cell_type": "markdown",
   "metadata": {
    "id": "Ti7Mdslz-4M5"
   },
   "source": [
    "## Imputation"
   ]
  },
  {
   "cell_type": "markdown",
   "metadata": {
    "id": "IRs62a3D-6bl"
   },
   "source": [
    "### Checking Missing Percentage"
   ]
  },
  {
   "cell_type": "code",
   "execution_count": 55,
   "metadata": {
    "colab": {
     "base_uri": "https://localhost:8080/",
     "height": 363
    },
    "id": "0PRa13NhMpIr",
    "outputId": "a448a031-46a0-46a2-d80e-988b35e3cccc"
   },
   "outputs": [],
   "source": [
    "import pandas as pd\n",
    "\n",
    "# Function to calculate missing data information\n",
    "def AA02_missing_data_info(AA02_sample_data):\n",
    "    # Calculate missing count and percentage\n",
    "    AA02_missing_count = AA02_sample_data.isnull().sum()\n",
    "    AA02_missing_percentage = (AA02_missing_count / len(AA02_sample_data)) * 100\n",
    "\n",
    "    # Create a DataFrame with missing data information\n",
    "    AA02_missing_info = pd.DataFrame({\n",
    "        'AA02_Variable': AA02_sample_data.columns,\n",
    "        'AA02_Missing_Count': AA02_missing_count.values,\n",
    "        'AA02_Missing_Percentage': AA02_missing_percentage.values\n",
    "    }).reset_index(drop=True)\n",
    "\n",
    "    # Format the percentage column\n",
    "    AA02_missing_info['AA02_Missing_Percentage'] = AA02_missing_info['AA02_Missing_Percentage'].round(2).astype(str) + '%'\n",
    "\n",
    "    return AA02_missing_info\n",
    "\n",
    "# Call the function\n",
    "# AA02_missing_data_info(AA02_sample_data_1)"
   ]
  },
  {
   "cell_type": "code",
   "execution_count": 56,
   "metadata": {},
   "outputs": [
    {
     "name": "stdout",
     "output_type": "stream",
     "text": [
      "Variables Omitted Due to Missing Values (> 50%):\n",
      "    Variable  Missing_Percentage              Omitted_From\n",
      "0    mrd_hct               57.63  AA02_categorical_columns\n",
      "1  tce_match               65.96  AA02_categorical_columns\n"
     ]
    }
   ],
   "source": [
    "import pandas as pd\n",
    "\n",
    "# Function to omit variables with more than a threshold of missing values and log omitted variables\n",
    "def AA02_clean_data_with_logging(\n",
    "    AA02_sample_data,\n",
    "    AA02_categorical_columns,\n",
    "    AA02_non_categorical_columns,\n",
    "    AA02_columns,\n",
    "    missing_threshold=50\n",
    "):\n",
    "    # Calculate missing percentage for each variable\n",
    "    AA02_missing_percentage = (AA02_sample_data.isnull().sum() / len(AA02_sample_data)) * 100\n",
    "\n",
    "    # Identify variables to omit (missing percentage > threshold)\n",
    "    variables_to_omit = AA02_missing_percentage[AA02_missing_percentage > missing_threshold]\n",
    "\n",
    "    # Create a DataFrame for omitted variables\n",
    "    omitted_info = []\n",
    "    for variable, percentage in variables_to_omit.items():\n",
    "        if variable in AA02_categorical_columns:\n",
    "            source = \"AA02_categorical_columns\"\n",
    "        elif variable in AA02_non_categorical_columns:\n",
    "            source = \"AA02_non_categorical_columns\"\n",
    "        elif variable in AA02_columns:\n",
    "            source = \"AA02_columns\"\n",
    "        else:\n",
    "            source = \"Unknown\"\n",
    "\n",
    "        omitted_info.append({\n",
    "            \"Variable\": variable,\n",
    "            \"Missing_Percentage\": round(percentage, 2),\n",
    "            \"Omitted_From\": source\n",
    "        })\n",
    "\n",
    "    # Convert omitted info to DataFrame\n",
    "    AA02_omitted_df = pd.DataFrame(omitted_info)\n",
    "\n",
    "    # Identify variables to keep\n",
    "    variables_to_keep = AA02_missing_percentage[AA02_missing_percentage <= missing_threshold].index.tolist()\n",
    "\n",
    "    # Filter the dataset\n",
    "    AA02_sample_data_cleaned = AA02_sample_data[variables_to_keep]\n",
    "\n",
    "    # Update the lists (only keep variables that are not omitted)\n",
    "    AA02_columns[:] = [col for col in AA02_columns if col in variables_to_keep]\n",
    "    AA02_categorical_columns[:] = [col for col in AA02_categorical_columns if col in variables_to_keep]\n",
    "    AA02_non_categorical_columns[:] = [col for col in AA02_non_categorical_columns if col in variables_to_keep]\n",
    "\n",
    "    # Print the DataFrame of omitted variables\n",
    "    print(\"Variables Omitted Due to Missing Values (> {}%):\".format(missing_threshold))\n",
    "    print(AA02_omitted_df)\n",
    "\n",
    "    return AA02_sample_data_cleaned\n",
    "\n",
    "# Example usage\n",
    "# Assuming AA02_sample_data_1, AA02_categorical_columns, AA02_non_categorical_columns, and AA02_columns are defined\n",
    "AA02_sample_data_cleaned = AA02_clean_data_with_logging(\n",
    "    AA02_sample_data_1,\n",
    "    AA02_categorical_columns,\n",
    "    AA02_non_categorical_columns,\n",
    "    AA02_columns,\n",
    "    missing_threshold=50\n",
    ")\n"
   ]
  },
  {
   "cell_type": "code",
   "execution_count": 57,
   "metadata": {},
   "outputs": [],
   "source": [
    "# print(AA02_columns)"
   ]
  },
  {
   "cell_type": "code",
   "execution_count": 58,
   "metadata": {},
   "outputs": [],
   "source": [
    "# Dropping variables from data frame"
   ]
  },
  {
   "cell_type": "code",
   "execution_count": 59,
   "metadata": {},
   "outputs": [],
   "source": [
    "# Select variables from AA02_sample_data_1 that are present in AA02_columns\n",
    "AA02_sample_data_dropped_variable = AA02_sample_data_1[AA02_columns]\n",
    "\n",
    "# Display the resulting dataset\n",
    "# AA02_sample_data_dropped_variable.head(3)"
   ]
  },
  {
   "cell_type": "markdown",
   "metadata": {
    "id": "HkKZhWQY-Eff"
   },
   "source": [
    "### Categorical Imputation"
   ]
  },
  {
   "cell_type": "code",
   "execution_count": 61,
   "metadata": {
    "id": "-RZE8cm3p-RJ"
   },
   "outputs": [],
   "source": [
    "from sklearn.impute import SimpleImputer # type: ignore\n",
    "\n",
    "AA02_sample_data_imputed = AA02_sample_data_dropped_variable.copy()\n",
    "\n",
    "# Initialize SimpleImputer with most_frequent strategy\n",
    "AA02_imputer = SimpleImputer(strategy='most_frequent')\n",
    "\n",
    "# Apply imputation\n",
    "AA02_sample_data_imputed[AA02_categorical_columns] = AA02_imputer.fit_transform(AA02_sample_data_imputed[AA02_categorical_columns])"
   ]
  },
  {
   "cell_type": "markdown",
   "metadata": {
    "id": "xJCx0uVJ-JHn"
   },
   "source": [
    "### Non Categorical Imputation"
   ]
  },
  {
   "cell_type": "code",
   "execution_count": 63,
   "metadata": {
    "colab": {
     "base_uri": "https://localhost:8080/"
    },
    "id": "kqtOvgJmoFbq",
    "outputId": "260e3282-addb-4a1a-fb9d-9a4a9803c6b2"
   },
   "outputs": [
    {
     "name": "stdout",
     "output_type": "stream",
     "text": [
      "Imputing 'hla_match_c_high' with median (significant difference between mean and median)\n",
      "Imputing 'hla_high_res_8' with median (significant difference between mean and median)\n",
      "Imputing 'hla_low_res_6' with median (significant difference between mean and median)\n",
      "Imputing 'hla_high_res_6' with median (significant difference between mean and median)\n",
      "Imputing 'hla_high_res_10' with median (significant difference between mean and median)\n",
      "Imputing 'hla_match_dqb1_high' with median (significant difference between mean and median)\n",
      "Imputing 'hla_nmdp_6' with median (significant difference between mean and median)\n",
      "Imputing 'hla_match_c_low' with median (significant difference between mean and median)\n",
      "Imputing 'hla_match_drb1_low' with median (significant difference between mean and median)\n",
      "Imputing 'hla_match_dqb1_low' with median (significant difference between mean and median)\n",
      "Imputing 'hla_match_a_high' with median (significant difference between mean and median)\n",
      "Imputing 'donor_age' with mean (no significant difference between mean and median)\n",
      "Imputing 'hla_match_b_low' with median (significant difference between mean and median)\n",
      "Imputing 'hla_match_a_low' with median (significant difference between mean and median)\n",
      "Imputing 'hla_match_b_high' with median (significant difference between mean and median)\n",
      "Imputing 'comorbidity_score' with median (significant difference between mean and median)\n",
      "Imputing 'karnofsky_score' with mean (no significant difference between mean and median)\n",
      "Imputing 'hla_low_res_8' with median (significant difference between mean and median)\n",
      "Imputing 'hla_match_drb1_high' with median (significant difference between mean and median)\n",
      "Imputing 'hla_low_res_10' with median (significant difference between mean and median)\n"
     ]
    }
   ],
   "source": [
    "import warnings\n",
    "warnings.filterwarnings('ignore')\n",
    "\n",
    "import numpy as np\n",
    "import pandas as pd\n",
    "\n",
    "from sklearn.impute import SimpleImputer # type: ignore\n",
    "import numpy as np\n",
    "\n",
    "def AA02_impute_columns_with_mean_or_median(AA02_df, columns):\n",
    "    for col in columns:\n",
    "        # Ensure column is numeric\n",
    "        AA02_df[col] = pd.to_numeric(AA02_df[col], errors='coerce')\n",
    "\n",
    "        # Replace invalid values with NaN\n",
    "        AA02_df[col].replace([np.inf, -np.inf], np.nan, inplace=True)\n",
    "\n",
    "        # Skip if column has no missing values\n",
    "        if AA02_df[col].isnull().sum() == 0:\n",
    "            continue\n",
    "\n",
    "        # Calculate mean and median\n",
    "        AA02_col_mean = AA02_df[col].mean()\n",
    "        AA02_col_median = AA02_df[col].median()\n",
    "\n",
    "        # Choose strategy based on significant difference\n",
    "        if abs(AA02_col_mean - AA02_col_median) / max(abs(AA02_col_mean), abs(AA02_col_median)) > 0.1:  # Significant difference\n",
    "            print(f\"Imputing '{col}' with median (significant difference between mean and median)\")\n",
    "            AA02_imputer = SimpleImputer(strategy='median')\n",
    "        else:\n",
    "            print(f\"Imputing '{col}' with mean (no significant difference between mean and median)\")\n",
    "            AA02_imputer = SimpleImputer(strategy='mean')\n",
    "\n",
    "        # Apply the AA02_imputer\n",
    "        AA02_df[[col]] = AA02_imputer.fit_transform(AA02_df[[col]])\n",
    "\n",
    "    return AA02_df\n",
    "\n",
    "AA02_sample_data_imputed = AA02_impute_columns_with_mean_or_median(AA02_sample_data_imputed, AA02_non_categorical_columns)"
   ]
  },
  {
   "cell_type": "markdown",
   "metadata": {
    "id": "CMHMflEy-_Qm"
   },
   "source": [
    "### Verify Missing Percetage = 0"
   ]
  },
  {
   "cell_type": "code",
   "execution_count": 65,
   "metadata": {
    "colab": {
     "base_uri": "https://localhost:8080/",
     "height": 363
    },
    "id": "g9D3leRZqt0y",
    "outputId": "59581284-9be4-4e1a-f67d-7e8579b833fb"
   },
   "outputs": [],
   "source": [
    "# AA02_missing_data_info(AA02_sample_data_imputed)"
   ]
  },
  {
   "cell_type": "markdown",
   "metadata": {
    "id": "ODojRQ9f_La3"
   },
   "source": [
    "## Numerical Encoding"
   ]
  },
  {
   "cell_type": "markdown",
   "metadata": {
    "id": "V0k7gUB0_NWr"
   },
   "source": [
    "### Ordinal/Nominal Encoding"
   ]
  },
  {
   "cell_type": "code",
   "execution_count": 68,
   "metadata": {
    "colab": {
     "base_uri": "https://localhost:8080/",
     "height": 224
    },
    "id": "7UV-1hFXKyWM",
    "outputId": "11f0d0b3-c732-49a5-a159-3c1287d14cd9"
   },
   "outputs": [
    {
     "name": "stdout",
     "output_type": "stream",
     "text": [
      "DataFrame with Encoded Categorical Variables:\n"
     ]
    }
   ],
   "source": [
    "from sklearn.preprocessing import OrdinalEncoder # type: ignore\n",
    "\n",
    "# Define order for ordinal columns\n",
    "AA02_ordinal_categories = [\n",
    "    # ['Import', 'Export'],  # Order for 'Import_Export'\n",
    "    # ['B', 'A']             # Order for 'Grades' (A is superior to B) A will be written as 1 and b will be written as 0\n",
    "]\n",
    "# Initialize OrdinalEncoder for ordinal columns with specified order\n",
    "ordinal_encoder_ordinal = OrdinalEncoder(categories=AA02_ordinal_categories)\n",
    "\n",
    "# Initialize OrdinalEncoder for nominal columns (order does not matter)\n",
    "ordinal_encoder_nominal = OrdinalEncoder()\n",
    "\n",
    "# Make a copy of the DataFrame\n",
    "AA02_sample_data_ordinally_encoded = AA02_sample_data_imputed.copy()\n",
    "\n",
    "# Encode ordinal columns\n",
    "AA02_sample_data_ordinally_encoded[AA02_categorical_ordinal_columns] = ordinal_encoder_ordinal.fit_transform(\n",
    "    AA02_sample_data_ordinally_encoded[AA02_categorical_ordinal_columns].astype(str)\n",
    ")\n",
    "\n",
    "# Encode nominal columns\n",
    "AA02_sample_data_ordinally_encoded[AA02_categorical_nominal_columns] = ordinal_encoder_nominal.fit_transform(\n",
    "    AA02_sample_data_ordinally_encoded[AA02_categorical_nominal_columns].astype(str)\n",
    ")\n",
    "\n",
    "# AA02_display the encoded DataFrame\n",
    "print(\"DataFrame with Encoded Categorical Variables:\")\n",
    "# AA02_sample_data_ordinally_encoded.head()"
   ]
  },
  {
   "cell_type": "markdown",
   "metadata": {
    "id": "LOFADEPn_X0Q"
   },
   "source": [
    "## Transformation"
   ]
  },
  {
   "cell_type": "code",
   "execution_count": 70,
   "metadata": {
    "colab": {
     "base_uri": "https://localhost:8080/",
     "height": 161
    },
    "id": "Cw2IPoP5QnxR",
    "outputId": "cdf334bc-2526-4b6d-d668-fcbb138ffed1"
   },
   "outputs": [],
   "source": [
    "import numpy as np\n",
    "from scipy.stats import boxcox\n",
    "from sklearn.preprocessing import PowerTransformer # type: ignore\n",
    "import pandas as pd\n",
    "\n",
    "# Function to handle transformations based on distribution characteristics\n",
    "def apply_transformations(AA02_sample_data, columns):\n",
    "    # Initialize a list to store transformation logs\n",
    "    AA02_transformation_logs = []\n",
    "\n",
    "    for column in columns:\n",
    "        # Compute AA02_skewness and AA02_kurtosis\n",
    "        AA02_skewness = AA02_sample_data[column].skew()\n",
    "        AA02_kurtosis = AA02_sample_data[column].kurt()\n",
    "        AA02_action = \"None\"  # Default AA02_action\n",
    "\n",
    "        # Handle Right Skew (Positive Skew)\n",
    "        if AA02_skewness > 1:\n",
    "            AA02_action = \"Log Transformation\"\n",
    "            AA02_sample_data[column] = np.log1p(AA02_sample_data[column])\n",
    "\n",
    "        # Handle Left Skew (Negative Skew)\n",
    "        elif AA02_skewness < -1:\n",
    "            AA02_action = \"Reflect and Log Transformation\"\n",
    "            AA02_sample_data[column] = np.log1p(AA02_sample_data[column].max() - AA02_sample_data[column])\n",
    "\n",
    "        # Handle High Kurtosis (Heavy Tails)\n",
    "        if AA02_kurtosis > 3:\n",
    "            try:\n",
    "                AA02_action = \"Box-Cox Transformation\"\n",
    "                AA02_sample_data[column], _ = boxcox(AA02_sample_data[column].clip(lower=1))\n",
    "            except ValueError:\n",
    "                AA02_action = \"Box-Cox Failed, Applied Yeo-Johnson\"\n",
    "                transformer = PowerTransformer(method='yeo-johnson')\n",
    "                AA02_sample_data[column] = transformer.fit_transform(AA02_sample_data[[column]])\n",
    "\n",
    "        # Handle Low Kurtosis (Light Tails)\n",
    "        elif AA02_kurtosis < 3 and AA02_action == \"None\":\n",
    "            AA02_action = \"Yeo-Johnson Transformation\"\n",
    "            transformer = PowerTransformer(method='yeo-johnson')\n",
    "            AA02_sample_data[column] = transformer.fit_transform(AA02_sample_data[[column]])\n",
    "\n",
    "        # Append the log entry\n",
    "        AA02_transformation_logs.append({\n",
    "            'Column Name': column,\n",
    "            'Skewness': AA02_skewness,\n",
    "            'Kurtosis': AA02_kurtosis,\n",
    "            'Action Taken': AA02_action\n",
    "        })\n",
    "\n",
    "    # Create a DataFrame for transformation logs\n",
    "    transformation_log_AA02_df = pd.DataFrame(AA02_transformation_logs)\n",
    "    return AA02_sample_data, transformation_log_AA02_df\n",
    "\n",
    "# Example usage with AA02_sample_data_encoded\n",
    "AA02_sample_data_encoded = AA02_sample_data_ordinally_encoded.copy()\n",
    "AA02_sample_data_encoded, AA02_transformation_logs = apply_transformations(AA02_sample_data_encoded, AA02_non_categorical_columns)\n",
    "\n",
    "# AA02_display the transformation log DataFrame\n",
    "# print(\"Transformation Log:\")\n",
    "# AA02_transformation_logs"
   ]
  },
  {
   "cell_type": "code",
   "execution_count": 71,
   "metadata": {
    "colab": {
     "base_uri": "https://localhost:8080/",
     "height": 206
    },
    "id": "Iw0Z1A-kWvcY",
    "outputId": "a5644a9a-1fe5-4cc4-ac23-674592f04312"
   },
   "outputs": [],
   "source": [
    "# Code for AA02_displaying transformed datset\n",
    "# AA02_sample_data_encoded.head(5)"
   ]
  },
  {
   "cell_type": "markdown",
   "metadata": {
    "id": "d-8ALf89nQZZ"
   },
   "source": [
    "# Machine Learning"
   ]
  },
  {
   "cell_type": "markdown",
   "metadata": {
    "id": "UaFy3CxZBzTp"
   },
   "source": [
    "## Dependent/Independent variables"
   ]
  },
  {
   "cell_type": "markdown",
   "metadata": {
    "id": "pQJctu_ICD-7"
   },
   "source": [
    "### Function to define Independent Variables"
   ]
  },
  {
   "cell_type": "code",
   "execution_count": 75,
   "metadata": {
    "id": "oR57j0RfYpbC"
   },
   "outputs": [],
   "source": [
    "def prepare_data(AA02_y_vars, AA02_cat_vars, AA02_non_cat_vars):\n",
    "    \"\"\"\n",
    "    Prepares the data by calculating the feature set (AA02_x) while excluding dependent variables.\n",
    "\n",
    "    Args:\n",
    "    - AA02_y_vars: A list of dependent variable names (can handle multiple dependent variables).\n",
    "    - AA02_cat_vars: A list of categorical variable names.\n",
    "    - AA02_non_cat_vars: A list of non-categorical variable names.\n",
    "\n",
    "    Returns:\n",
    "    - AA02_y_vars: A list of dependent variable names.\n",
    "    - AA02_x: A list of feature variable names, excluding dependent variables.\n",
    "    \"\"\"\n",
    "    # Combine categorical and non-categorical variable lists\n",
    "    AA02_all_vars = AA02_cat_vars + AA02_non_cat_vars\n",
    "\n",
    "    # Ensure `AA02_y_vars` is a list for consistency\n",
    "    if isinstance(AA02_y_vars, str):\n",
    "        AA02_y_vars = [AA02_y_vars]\n",
    "\n",
    "    # Calculate the feature set (x) as the difference between AA02_all_vars and y_vars\n",
    "    AA02_x = [AA02_var for AA02_var in AA02_all_vars if AA02_var not in AA02_y_vars]\n",
    "\n",
    "    return AA02_y_vars, AA02_x"
   ]
  },
  {
   "cell_type": "markdown",
   "metadata": {
    "id": "dHGA4QiaCI2p"
   },
   "source": [
    "### Defining Dependent Variable"
   ]
  },
  {
   "cell_type": "code",
   "execution_count": 77,
   "metadata": {
    "colab": {
     "base_uri": "https://localhost:8080/"
    },
    "id": "UIMrNabZyyLf",
    "outputId": "06033a03-09e2-4cd0-d88f-496abd77b6bd"
   },
   "outputs": [],
   "source": [
    "AA02_y = ['efs_time']  # Target variable defined manually\n",
    "\n",
    "AA02_y_columns, AA02_x_columns = prepare_data(AA02_y, AA02_categorical_columns, AA02_non_categorical_columns)\n",
    "\n",
    "# print(\"Target (y):\", AA02_y_columns)\n",
    "# print(\"Feature Set (x):\", AA02_x_columns)"
   ]
  },
  {
   "cell_type": "markdown",
   "metadata": {
    "id": "Jp2JPI4LCNOB"
   },
   "source": [
    "## Train Test Split"
   ]
  },
  {
   "cell_type": "code",
   "execution_count": 79,
   "metadata": {},
   "outputs": [],
   "source": [
    "from sklearn.model_selection import train_test_split\n",
    "\n",
    "AA02_sample_data_5 = AA02_sample_data_encoded.copy()\n",
    "\n",
    "# Extract the target columns (multi-output targets)\n",
    "AA02_y_data = AA02_sample_data_5[AA02_y_columns]  # AA02_y_columns should be a list like ['efs', 'efs_time']\n",
    "\n",
    "# Extract the features (as DataFrame)\n",
    "AA02_x_data = AA02_sample_data_5[AA02_x_columns]  # AA02_x_columns is the list of feature column names\n",
    "\n",
    "# Perform the train-test split\n",
    "AA02_x_train, AA02_x_test, AA02_y_train, AA02_y_test = train_test_split(\n",
    "    AA02_x_data, AA02_y_data, test_size=0.25, random_state=55002, stratify=AA02_x_data['efs']  # Stratify by 'efs'\n",
    ")"
   ]
  },
  {
   "cell_type": "markdown",
   "metadata": {},
   "source": [
    "## Factor Analysis"
   ]
  },
  {
   "cell_type": "code",
   "execution_count": 81,
   "metadata": {},
   "outputs": [
    {
     "data": {
      "image/png": "[encoded data removed]",
      "text/plain": [
       "<Figure size 640x480 with 1 Axes>"
      ]
     },
     "metadata": {},
     "output_type": "display_data"
    }
   ],
   "source": [
    "import pandas as pd\n",
    "from factor_analyzer import FactorAnalyzer\n",
    "\n",
    "# Check the correlation matrix\n",
    "correlation_matrix = AA02_x_train.corr()\n",
    "# print(\"Correlation Matrix:\\n\", correlation_matrix)\n",
    "\n",
    "# Perform factor analysis\n",
    "fa = FactorAnalyzer(n_factors=5, rotation=\"varimax\")  # Adjust 'n_factors' as needed\n",
    "fa.fit(AA02_x_train)\n",
    "\n",
    "# Get eigenvalues to decide the number of factors to retain\n",
    "eigenvalues, _ = fa.get_eigenvalues()\n",
    "# print(\"Eigenvalues:\\n\", eigenvalues)\n",
    "\n",
    "# Plot eigenvalues to visualize\n",
    "import matplotlib.pyplot as plt\n",
    "\n",
    "plt.plot(range(1, len(eigenvalues) + 1), eigenvalues, marker='o')\n",
    "plt.title(\"Scree Plot\")\n",
    "plt.xlabel(\"Factor\")\n",
    "plt.ylabel(\"Eigenvalue\")\n",
    "plt.axhline(1, color='red', linestyle='--')  # Retain factors with eigenvalue > 1\n",
    "plt.show()\n",
    "\n",
    "# Factor loadings\n",
    "factor_loadings = pd.DataFrame(fa.loadings_, index=AA02_x_train.columns)\n",
    "# print(\"Factor Loadings:\\n\", factor_loadings)"
   ]
  },
  {
   "cell_type": "code",
   "execution_count": 82,
   "metadata": {},
   "outputs": [],
   "source": [
    "# Select important variables (e.g., variables with loadings > 0.5)\n",
    "important_variables = factor_loadings[(factor_loadings.abs() > 0.5).any(axis=1)]\n",
    "# print(\"Important Variables:\\n\", important_variables)"
   ]
  },
  {
   "cell_type": "code",
   "execution_count": 83,
   "metadata": {},
   "outputs": [],
   "source": [
    "# Create a list of important variables including 'efs'\n",
    "important_variables_list = list(important_variables.index)  # Extract variable names from important_variables\n",
    "\n",
    "# Ensure 'efs' is included in the list\n",
    "if 'efs' not in important_variables_list:\n",
    "    important_variables_list.append('efs')  # Add 'efs' explicitly to the list\n",
    "\n",
    "# Subset train and test datasets\n",
    "AA02_x_train = AA02_x_train[important_variables_list]\n",
    "AA02_x_test = AA02_x_test[important_variables_list]"
   ]
  },
  {
   "cell_type": "markdown",
   "metadata": {
    "id": "ms1QBRlXCxQh"
   },
   "source": [
    "### Train test split verification"
   ]
  },
  {
   "cell_type": "code",
   "execution_count": 85,
   "metadata": {},
   "outputs": [],
   "source": [
    "import pandas as pd\n",
    "\n",
    "# Compute unique value counts for AA02_x_train and AA02_x_test\n",
    "AA02_unique_values_AA02_x_train = AA02_x_train.nunique()\n",
    "AA02_unique_values_AA02_x_test = AA02_x_test.nunique()\n",
    "\n",
    "# Safely compute unique value counts for dependent variables in AA02_y_train and AA02_y_test\n",
    "AA02_unique_values_AA02_y_train = {}\n",
    "AA02_unique_values_AA02_y_test = {}\n",
    "\n",
    "for y in AA02_y_columns:\n",
    "    if y in AA02_y_train.columns:\n",
    "        AA02_unique_values_AA02_y_train[y] = AA02_y_train[y].nunique()\n",
    "    else:\n",
    "        print(f\"Warning: '{y}' not found in AA02_y_train\")\n",
    "    \n",
    "    if y in AA02_y_test.columns:\n",
    "        AA02_unique_values_AA02_y_test[y] = AA02_y_test[y].nunique()\n",
    "    else:\n",
    "        print(f\"Warning: '{y}' not found in AA02_y_test\")\n",
    "\n",
    "# Convert to pandas Series\n",
    "AA02_unique_values_AA02_y_train = pd.Series(AA02_unique_values_AA02_y_train)\n",
    "AA02_unique_values_AA02_y_test = pd.Series(AA02_unique_values_AA02_y_test)\n",
    "\n",
    "# Combine the results into a single DataFrame\n",
    "AA02_unique_values_AA02_df = pd.DataFrame({\n",
    "    'AA02_x_train': AA02_unique_values_AA02_x_train,\n",
    "    'AA02_x_test': AA02_unique_values_AA02_x_test,\n",
    "    'AA02_y_train': AA02_unique_values_AA02_y_train,\n",
    "    'AA02_y_test': AA02_unique_values_AA02_y_test\n",
    "})\n",
    "\n",
    "# Display the DataFrame\n",
    "# AA02_unique_values_AA02_df"
   ]
  },
  {
   "cell_type": "markdown",
   "metadata": {},
   "source": [
    "## Neural Network"
   ]
  },
  {
   "cell_type": "code",
   "execution_count": null,
   "metadata": {},
   "outputs": [
    {
     "name": "stdout",
     "output_type": "stream",
     "text": [
      "\u001b[1m225/225\u001b[0m \u001b[32m━━━━━━━━━━━━━━━━━━━━\u001b[0m\u001b[37m\u001b[0m \u001b[1m0s\u001b[0m 1ms/step\n"
     ]
    }
   ],
   "source": [
    "import pandas as pd\n",
    "from itertools import combinations\n",
    "from sklearn.metrics import mean_squared_error, r2_score\n",
    "from sksurv.metrics import concordance_index_censored\n",
    "import tensorflow as tf\n",
    "from tensorflow.keras.models import Model\n",
    "from tensorflow.keras.layers import Input, Dense, Dropout\n",
    "import numpy as np\n",
    "\n",
    "# Initialize the results DataFrame\n",
    "results_list = []\n",
    "\n",
    "# Ensure important variables list is at least 97% of total columns\n",
    "min_important_vars = max(int(0.97 * len(important_variables_list)), 1)\n",
    "\n",
    "# Generate all combinations of variables meeting the 97% condition\n",
    "for r in range(min_important_vars, len(important_variables_list) + 1):\n",
    "    for subset in combinations(important_variables_list, r):\n",
    "        # Subset the train and test data\n",
    "        AA02_x_train_subset = AA02_x_train[list(subset)]\n",
    "        AA02_x_test_subset = AA02_x_test[list(subset)]\n",
    "\n",
    "        # Define the model\n",
    "        input_layer = Input(shape=(AA02_x_train_subset.shape[1],), name=\"input_layer\")\n",
    "        shared_layer = Dense(128, activation=\"relu\")(input_layer)\n",
    "        shared_layer = Dropout(0.3)(shared_layer)\n",
    "        shared_layer = Dense(64, activation=\"relu\")(shared_layer)\n",
    "        efs_time_output = Dense(1, activation=\"linear\", name=\"efs_time_output\")(shared_layer)\n",
    "\n",
    "        model = Model(inputs=input_layer, outputs=efs_time_output)\n",
    "        model.compile(optimizer=\"adam\", loss=\"mse\", metrics=[\"mse\"])\n",
    "\n",
    "        # Train the model\n",
    "        model.fit(\n",
    "            AA02_x_train_subset,\n",
    "            AA02_y_train[\"efs_time\"],\n",
    "            validation_data=(AA02_x_test_subset, AA02_y_test[\"efs_time\"]),\n",
    "            epochs=20,\n",
    "            batch_size=32,\n",
    "            verbose=0\n",
    "        )\n",
    "\n",
    "        # Predict and evaluate\n",
    "        efs_time_predictions = model.predict(AA02_x_test_subset).ravel()\n",
    "        event_indicator = AA02_x_test[\"efs\"].values.astype(bool)\n",
    "        event_time = AA02_y_test[\"efs_time\"].values\n",
    "\n",
    "        efs_time_cindex = concordance_index_censored(\n",
    "            event_indicator,  # Event indicator\n",
    "            event_time,       # Observed survival times\n",
    "            -efs_time_predictions  # Predicted risk scores\n",
    "        )\n",
    "        if isinstance(efs_time_cindex, tuple):\n",
    "            efs_time_cindex = efs_time_cindex[0]\n",
    "\n",
    "        efs_time_r2 = r2_score(AA02_y_test[\"efs_time\"], efs_time_predictions)\n",
    "\n",
    "        # Store results in a dictionary\n",
    "        result = {\n",
    "            \"C-index\": efs_time_cindex,\n",
    "            \"R²\": efs_time_r2\n",
    "        }\n",
    "\n",
    "        # Add variable presence\n",
    "        for var in important_variables_list:\n",
    "            result[var] = 1 if var in subset else 0\n",
    "\n",
    "        results_list.append(result)\n",
    "\n",
    "# Convert results list to DataFrame\n",
    "results_df = pd.DataFrame(results_list)"
   ]
  },
  {
   "cell_type": "markdown",
   "metadata": {},
   "source": [
    "## Metrics"
   ]
  },
  {
   "cell_type": "code",
   "execution_count": null,
   "metadata": {},
   "outputs": [],
   "source": [
    "import pandas as pd\n",
    "from IPython.display import display\n",
    "\n",
    "def display_full_dataframe(df):\n",
    "    # Set display options for max columns and rows\n",
    "    pd.set_option('display.max_columns', None)\n",
    "    pd.set_option('display.max_rows', None)\n",
    "\n",
    "    # Display the DataFrame\n",
    "    display(df)\n",
    "\n",
    "    # Reset options to defaults after displaying\n",
    "    pd.reset_option('display.max_columns')\n",
    "    pd.reset_option('display.max_rows')\n",
    "# display_full_dataframe(results_df)"
   ]
  },
  {
   "cell_type": "markdown",
   "metadata": {
    "jp-MarkdownHeadingCollapsed": true
   },
   "source": [
    "# Notebook Closed"
   ]
  }
 ],
 "metadata": {
  "colab": {
   "collapsed_sections": [
    "Ov_P-pFvmxDc",
    "9UfuOEJu_20x",
    "pomKw8hsm4Nd",
    "-c0vzp-EnMXR",
    "zLQrAG0mBeZ2",
    "Lcd9-pVWBsa-"
   ],
   "provenance": []
  },
  "kernelspec": {
   "display_name": "Python 3 (ipykernel)",
   "language": "python",
   "name": "python3"
  },
  "language_info": {
   "codemirror_mode": {
    "name": "ipython",
    "version": 3
   },
   "file_extension": ".py",
   "mimetype": "text/x-python",
   "name": "python",
   "nbconvert_exporter": "python",
   "pygments_lexer": "ipython3",
   "version": "3.12.4"
  }
 },
 "nbformat": 4,
 "nbformat_minor": 4
}
